{
 "cells": [
  {
   "cell_type": "code",
   "execution_count": 1,
   "metadata": {
    "deletable": false,
    "editable": false
   },
   "outputs": [],
   "source": [
    "# Initialize Otter\n",
    "import otter\n",
    "grader = otter.Notebook(\"lab03.ipynb\")"
   ]
  },
  {
   "cell_type": "markdown",
   "metadata": {},
   "source": [
    "<table style=\"width: 100%;\" id=\"nb-header\">\n",
    "    <tr style=\"background-color: transparent;\"><td>\n",
    "        <img src=\"https://data-88e.github.io/assets/images/blue_text.png\" width=\"250px\" style=\"margin-left: 0;\" />\n",
    "    </td><td>\n",
    "        <p style=\"text-align: right; font-size: 10pt;\"><strong>Economic Models</strong>, Fall 2023<br>\n",
    "            Dr. Eric Van Dusen <br>\n",
    "        Alan Liang <br>\n",
    "        Umar Maniku <br>\n",
    "        Akhil Venkatesh <br>\n",
    "</table>"
   ]
  },
  {
   "cell_type": "markdown",
   "metadata": {},
   "source": [
    "<!-- BEGIN QUESTION -->\n",
    "\n",
    "# Lab 3: Taxes, Government Intervention, and Welfare\n",
    "\n",
    "<!-- END QUESTION -->"
   ]
  },
  {
   "cell_type": "code",
   "execution_count": 2,
   "metadata": {},
   "outputs": [],
   "source": [
    "from datascience import *\n",
    "import numpy as np\n",
    "import matplotlib.pyplot as plt\n",
    "import sympy\n",
    "solve = lambda x,y: sympy.solve(x-y)[0] if len(sympy.solve(x-y))==1 else \"Not Single Solution\"\n",
    "%matplotlib inline"
   ]
  },
  {
   "cell_type": "markdown",
   "metadata": {},
   "source": [
    "## Question 1: Beer Taxes: An Empirical Study"
   ]
  },
  {
   "cell_type": "markdown",
   "metadata": {},
   "source": [
    "Many states in the United States impose an excise and an ad valorem tax on the consumption of beer. According to the Beer Institute, “taxes are the single most expensive ingredient in beer, costing more than the labor and raw materials combined.” In fact, approximately 40 percent of the retail price of beer is dedicated toward covering all the applicable taxes. \n",
    "\n",
    "Throughout this exercise, you will investigate how salient consumers are to changes in taxes on beer. Typically, the ad valorem tax on beer is not reflected in the label price, like typical sales taxes in the US. However, the excise tax is included in the label price. \n",
    "\n",
    "This study on consumer salience towards taxes is taken from [_Salience and Taxation: Theory and Evidence_](https://www.aeaweb.org/articles?id=10.1257/aer.99.4.1145) by Chetty, Looney, and Kroft (AER 2010). "
   ]
  },
  {
   "cell_type": "markdown",
   "metadata": {},
   "source": [
    "**Question 1.1:**\n",
    "In the paper *Salience and Taxation: Theory and Evidence*, the authors also investigate consumer salience towards taxes through a field experiment by posting tax-inclusive price tags, and find that doing so reduces demand by 8 percent. What does this imply about consumer salience in relation to the decrease in demand?\n"
   ]
  },
  {
   "cell_type": "markdown",
   "metadata": {},
   "source": [
    "a. Including the tax in the price tag does not change the actual price of the good, but only the label price. Since demand decreases when including the tax in the price, we can conclude that not all consumers are aware of the tax.\n",
    "<br>\n",
    "b. Including the tax in the price tag does not change the actual price of the good, but only the label price. Since demand increases when including the tax in the price, we can conclude that not all consumers are aware of the tax.\n",
    "<br>\n",
    "c. Including the tax in the price tag changes the actual price of the good. Since demand decreases when including the tax in the price, we can conclude that all consumers are aware of the tax.\n",
    "<br>\n",
    "d. Including the tax in the price tag changes the actual price of the good, but only the signaling price. Since demand increases when including the tax in the price, we can conclude that not all consumers are aware of the tax."
   ]
  },
  {
   "cell_type": "code",
   "execution_count": 3,
   "metadata": {
    "tags": []
   },
   "outputs": [],
   "source": [
    "q1_1 = 'a'"
   ]
  },
  {
   "cell_type": "code",
   "execution_count": 4,
   "metadata": {
    "deletable": false,
    "editable": false
   },
   "outputs": [
    {
     "data": {
      "text/html": [
       "<p><strong><pre style='display: inline;'>q1_1</pre></strong> passed! 🌈</p>"
      ],
      "text/plain": [
       "q1_1 results: All test cases passed!"
      ]
     },
     "execution_count": 4,
     "metadata": {},
     "output_type": "execute_result"
    }
   ],
   "source": [
    "grader.check(\"q1_1\")"
   ]
  },
  {
   "cell_type": "markdown",
   "metadata": {},
   "source": [
    "Let's load in a table about beer sales across the 50 states from 1970 to 2003.\n",
    "\n",
    "The table `beer_raw` includes 7 columns:\n",
    "- `st_name`: the state abbreviation\n",
    "- `year`: the year the data was recorded\n",
    "- `c_beer`: the quantity of beer consumed in gallons (in thousands of gallons)\n",
    "- `beer_tax`: the ad valorem tax as a percentage\n",
    "- `btax_dollars`: the excise tax, represented in dollars per case of beer (24 cans)\n",
    "- `population`: the population of the state (in thousands)\n",
    "- `salestax`: the sales tax percentage"
   ]
  },
  {
   "cell_type": "code",
   "execution_count": 5,
   "metadata": {},
   "outputs": [
    {
     "data": {
      "text/html": [
       "<table border=\"1\" class=\"dataframe\">\n",
       "    <thead>\n",
       "        <tr>\n",
       "            <th>st_name</th> <th>year</th> <th>c_beer</th> <th>beer_tax</th> <th>btax_dollars</th> <th>population</th> <th>salestax</th>\n",
       "        </tr>\n",
       "    </thead>\n",
       "    <tbody>\n",
       "        <tr>\n",
       "            <td>AL     </td> <td>1970</td> <td>33098 </td> <td>72.3411 </td> <td>2.37        </td> <td>3450      </td> <td>4       </td>\n",
       "        </tr>\n",
       "        <tr>\n",
       "            <td>AL     </td> <td>1971</td> <td>37598 </td> <td>69.3046 </td> <td>2.37        </td> <td>3497      </td> <td>4       </td>\n",
       "        </tr>\n",
       "        <tr>\n",
       "            <td>AL     </td> <td>1972</td> <td>42719 </td> <td>67.1492 </td> <td>2.37        </td> <td>3539      </td> <td>4       </td>\n",
       "        </tr>\n",
       "        <tr>\n",
       "            <td>AL     </td> <td>1973</td> <td>46203 </td> <td>63.217  </td> <td>2.37        </td> <td>3580      </td> <td>4       </td>\n",
       "        </tr>\n",
       "        <tr>\n",
       "            <td>AL     </td> <td>1974</td> <td>49769 </td> <td>56.9338 </td> <td>2.37        </td> <td>3627      </td> <td>4       </td>\n",
       "        </tr>\n",
       "        <tr>\n",
       "            <td>AL     </td> <td>1975</td> <td>53236 </td> <td>52.1717 </td> <td>2.37        </td> <td>3679      </td> <td>4       </td>\n",
       "        </tr>\n",
       "        <tr>\n",
       "            <td>AL     </td> <td>1976</td> <td>54992 </td> <td>49.3293 </td> <td>2.37        </td> <td>3735      </td> <td>4       </td>\n",
       "        </tr>\n",
       "        <tr>\n",
       "            <td>AL     </td> <td>1977</td> <td>62317 </td> <td>46.3174 </td> <td>2.37        </td> <td>3780      </td> <td>4       </td>\n",
       "        </tr>\n",
       "        <tr>\n",
       "            <td>AL     </td> <td>1978</td> <td>62725 </td> <td>43.0496 </td> <td>2.37        </td> <td>3832      </td> <td>4       </td>\n",
       "        </tr>\n",
       "        <tr>\n",
       "            <td>AL     </td> <td>1979</td> <td>63999 </td> <td>38.6617 </td> <td>2.37        </td> <td>3866      </td> <td>4       </td>\n",
       "        </tr>\n",
       "    </tbody>\n",
       "</table>\n",
       "<p>... (1698 rows omitted)</p>"
      ],
      "text/plain": [
       "st_name | year | c_beer | beer_tax | btax_dollars | population | salestax\n",
       "AL      | 1970 | 33098  | 72.3411  | 2.37         | 3450       | 4\n",
       "AL      | 1971 | 37598  | 69.3046  | 2.37         | 3497       | 4\n",
       "AL      | 1972 | 42719  | 67.1492  | 2.37         | 3539       | 4\n",
       "AL      | 1973 | 46203  | 63.217   | 2.37         | 3580       | 4\n",
       "AL      | 1974 | 49769  | 56.9338  | 2.37         | 3627       | 4\n",
       "AL      | 1975 | 53236  | 52.1717  | 2.37         | 3679       | 4\n",
       "AL      | 1976 | 54992  | 49.3293  | 2.37         | 3735       | 4\n",
       "AL      | 1977 | 62317  | 46.3174  | 2.37         | 3780       | 4\n",
       "AL      | 1978 | 62725  | 43.0496  | 2.37         | 3832       | 4\n",
       "AL      | 1979 | 63999  | 38.6617  | 2.37         | 3866       | 4\n",
       "... (1698 rows omitted)"
      ]
     },
     "execution_count": 5,
     "metadata": {},
     "output_type": "execute_result"
    }
   ],
   "source": [
    "beer_raw = Table.read_table(\"beer_tax.csv\")\n",
    "beer_raw"
   ]
  },
  {
   "cell_type": "markdown",
   "metadata": {},
   "source": [
    "**Question 1.2:**\n",
    "Consumption across states vary widely due to differences in population. Let's normalize this by adding a column called `pc_beer`, representing the per capita (per person) consumption of beer in each year for each state, to `beer_raw`. Call the resulting table `beer`.\n"
   ]
  },
  {
   "cell_type": "code",
   "execution_count": 6,
   "metadata": {
    "tags": []
   },
   "outputs": [
    {
     "data": {
      "text/html": [
       "<table border=\"1\" class=\"dataframe\">\n",
       "    <thead>\n",
       "        <tr>\n",
       "            <th>st_name</th> <th>year</th> <th>c_beer</th> <th>beer_tax</th> <th>btax_dollars</th> <th>population</th> <th>salestax</th> <th>pc_beer</th>\n",
       "        </tr>\n",
       "    </thead>\n",
       "    <tbody>\n",
       "        <tr>\n",
       "            <td>AL     </td> <td>1970</td> <td>33098 </td> <td>72.3411 </td> <td>2.37        </td> <td>3450      </td> <td>4       </td> <td>9.59362</td>\n",
       "        </tr>\n",
       "        <tr>\n",
       "            <td>AL     </td> <td>1971</td> <td>37598 </td> <td>69.3046 </td> <td>2.37        </td> <td>3497      </td> <td>4       </td> <td>10.7515</td>\n",
       "        </tr>\n",
       "        <tr>\n",
       "            <td>AL     </td> <td>1972</td> <td>42719 </td> <td>67.1492 </td> <td>2.37        </td> <td>3539      </td> <td>4       </td> <td>12.0709</td>\n",
       "        </tr>\n",
       "        <tr>\n",
       "            <td>AL     </td> <td>1973</td> <td>46203 </td> <td>63.217  </td> <td>2.37        </td> <td>3580      </td> <td>4       </td> <td>12.9059</td>\n",
       "        </tr>\n",
       "        <tr>\n",
       "            <td>AL     </td> <td>1974</td> <td>49769 </td> <td>56.9338 </td> <td>2.37        </td> <td>3627      </td> <td>4       </td> <td>13.7218</td>\n",
       "        </tr>\n",
       "        <tr>\n",
       "            <td>AL     </td> <td>1975</td> <td>53236 </td> <td>52.1717 </td> <td>2.37        </td> <td>3679      </td> <td>4       </td> <td>14.4702</td>\n",
       "        </tr>\n",
       "        <tr>\n",
       "            <td>AL     </td> <td>1976</td> <td>54992 </td> <td>49.3293 </td> <td>2.37        </td> <td>3735      </td> <td>4       </td> <td>14.7234</td>\n",
       "        </tr>\n",
       "        <tr>\n",
       "            <td>AL     </td> <td>1977</td> <td>62317 </td> <td>46.3174 </td> <td>2.37        </td> <td>3780      </td> <td>4       </td> <td>16.486 </td>\n",
       "        </tr>\n",
       "        <tr>\n",
       "            <td>AL     </td> <td>1978</td> <td>62725 </td> <td>43.0496 </td> <td>2.37        </td> <td>3832      </td> <td>4       </td> <td>16.3687</td>\n",
       "        </tr>\n",
       "        <tr>\n",
       "            <td>AL     </td> <td>1979</td> <td>63999 </td> <td>38.6617 </td> <td>2.37        </td> <td>3866      </td> <td>4       </td> <td>16.5543</td>\n",
       "        </tr>\n",
       "    </tbody>\n",
       "</table>\n",
       "<p>... (1698 rows omitted)</p>"
      ],
      "text/plain": [
       "st_name | year | c_beer | beer_tax | btax_dollars | population | salestax | pc_beer\n",
       "AL      | 1970 | 33098  | 72.3411  | 2.37         | 3450       | 4        | 9.59362\n",
       "AL      | 1971 | 37598  | 69.3046  | 2.37         | 3497       | 4        | 10.7515\n",
       "AL      | 1972 | 42719  | 67.1492  | 2.37         | 3539       | 4        | 12.0709\n",
       "AL      | 1973 | 46203  | 63.217   | 2.37         | 3580       | 4        | 12.9059\n",
       "AL      | 1974 | 49769  | 56.9338  | 2.37         | 3627       | 4        | 13.7218\n",
       "AL      | 1975 | 53236  | 52.1717  | 2.37         | 3679       | 4        | 14.4702\n",
       "AL      | 1976 | 54992  | 49.3293  | 2.37         | 3735       | 4        | 14.7234\n",
       "AL      | 1977 | 62317  | 46.3174  | 2.37         | 3780       | 4        | 16.486\n",
       "AL      | 1978 | 62725  | 43.0496  | 2.37         | 3832       | 4        | 16.3687\n",
       "AL      | 1979 | 63999  | 38.6617  | 2.37         | 3866       | 4        | 16.5543\n",
       "... (1698 rows omitted)"
      ]
     },
     "execution_count": 6,
     "metadata": {},
     "output_type": "execute_result"
    }
   ],
   "source": [
    "pc_beer_column = beer_raw.column('c_beer') / beer_raw.column('population')\n",
    "beer = beer_raw.with_column('pc_beer', pc_beer_column)\n",
    "beer"
   ]
  },
  {
   "cell_type": "code",
   "execution_count": 7,
   "metadata": {
    "deletable": false,
    "editable": false
   },
   "outputs": [
    {
     "data": {
      "text/html": [
       "<p><strong><pre style='display: inline;'>q1_2</pre></strong> passed! 🍀</p>"
      ],
      "text/plain": [
       "q1_2 results: All test cases passed!"
      ]
     },
     "execution_count": 7,
     "metadata": {},
     "output_type": "execute_result"
    }
   ],
   "source": [
    "grader.check(\"q1_2\")"
   ]
  },
  {
   "cell_type": "markdown",
   "metadata": {},
   "source": [
    "**Question 1.3:**\n",
    "For the rest of this question, we will restrict our analysis to only one state - California. Assign `beer_state` to a filtered table with only data describing California.\n"
   ]
  },
  {
   "cell_type": "code",
   "execution_count": 8,
   "metadata": {
    "tags": []
   },
   "outputs": [
    {
     "data": {
      "text/html": [
       "<table border=\"1\" class=\"dataframe\">\n",
       "    <thead>\n",
       "        <tr>\n",
       "            <th>st_name</th> <th>year</th> <th>c_beer</th> <th>beer_tax</th> <th>btax_dollars</th> <th>population</th> <th>salestax</th> <th>pc_beer</th>\n",
       "        </tr>\n",
       "    </thead>\n",
       "    <tbody>\n",
       "        <tr>\n",
       "            <td>CA     </td> <td>1970</td> <td>363645</td> <td>2.74713 </td> <td>0.09        </td> <td>20023     </td> <td>5       </td> <td>18.1614</td>\n",
       "        </tr>\n",
       "        <tr>\n",
       "            <td>CA     </td> <td>1971</td> <td>380397</td> <td>2.63182 </td> <td>0.09        </td> <td>20346     </td> <td>5       </td> <td>18.6964</td>\n",
       "        </tr>\n",
       "        <tr>\n",
       "            <td>CA     </td> <td>1972</td> <td>401928</td> <td>2.54997 </td> <td>0.09        </td> <td>20585     </td> <td>5       </td> <td>19.5253</td>\n",
       "        </tr>\n",
       "        <tr>\n",
       "            <td>CA     </td> <td>1973</td> <td>417463</td> <td>2.40065 </td> <td>0.09        </td> <td>20869     </td> <td>5.167   </td> <td>20.004 </td>\n",
       "        </tr>\n",
       "        <tr>\n",
       "            <td>CA     </td> <td>1974</td> <td>464237</td> <td>2.16204 </td> <td>0.09        </td> <td>21174     </td> <td>5.25    </td> <td>21.9249</td>\n",
       "        </tr>\n",
       "        <tr>\n",
       "            <td>CA     </td> <td>1975</td> <td>466420</td> <td>1.9812  </td> <td>0.09        </td> <td>21538     </td> <td>6       </td> <td>21.6557</td>\n",
       "        </tr>\n",
       "        <tr>\n",
       "            <td>CA     </td> <td>1976</td> <td>496869</td> <td>1.87326 </td> <td>0.09        </td> <td>21936     </td> <td>6       </td> <td>22.6508</td>\n",
       "        </tr>\n",
       "        <tr>\n",
       "            <td>CA     </td> <td>1977</td> <td>503361</td> <td>1.75889 </td> <td>0.09        </td> <td>22352     </td> <td>6       </td> <td>22.5197</td>\n",
       "        </tr>\n",
       "        <tr>\n",
       "            <td>CA     </td> <td>1978</td> <td>533487</td> <td>1.6348  </td> <td>0.09        </td> <td>22836     </td> <td>6       </td> <td>23.3617</td>\n",
       "        </tr>\n",
       "        <tr>\n",
       "            <td>CA     </td> <td>1979</td> <td>572605</td> <td>1.46816 </td> <td>0.09        </td> <td>23257     </td> <td>6       </td> <td>24.6208</td>\n",
       "        </tr>\n",
       "    </tbody>\n",
       "</table>\n",
       "<p>... (24 rows omitted)</p>"
      ],
      "text/plain": [
       "st_name | year | c_beer | beer_tax | btax_dollars | population | salestax | pc_beer\n",
       "CA      | 1970 | 363645 | 2.74713  | 0.09         | 20023      | 5        | 18.1614\n",
       "CA      | 1971 | 380397 | 2.63182  | 0.09         | 20346      | 5        | 18.6964\n",
       "CA      | 1972 | 401928 | 2.54997  | 0.09         | 20585      | 5        | 19.5253\n",
       "CA      | 1973 | 417463 | 2.40065  | 0.09         | 20869      | 5.167    | 20.004\n",
       "CA      | 1974 | 464237 | 2.16204  | 0.09         | 21174      | 5.25     | 21.9249\n",
       "CA      | 1975 | 466420 | 1.9812   | 0.09         | 21538      | 6        | 21.6557\n",
       "CA      | 1976 | 496869 | 1.87326  | 0.09         | 21936      | 6        | 22.6508\n",
       "CA      | 1977 | 503361 | 1.75889  | 0.09         | 22352      | 6        | 22.5197\n",
       "CA      | 1978 | 533487 | 1.6348   | 0.09         | 22836      | 6        | 23.3617\n",
       "CA      | 1979 | 572605 | 1.46816  | 0.09         | 23257      | 6        | 24.6208\n",
       "... (24 rows omitted)"
      ]
     },
     "execution_count": 8,
     "metadata": {},
     "output_type": "execute_result"
    }
   ],
   "source": [
    "beer_state = beer.where('st_name', 'CA')\n",
    "beer_state"
   ]
  },
  {
   "cell_type": "code",
   "execution_count": 9,
   "metadata": {
    "deletable": false,
    "editable": false
   },
   "outputs": [
    {
     "data": {
      "text/html": [
       "<p><strong><pre style='display: inline;'>q1_3</pre></strong> passed! ✨</p>"
      ],
      "text/plain": [
       "q1_3 results: All test cases passed!"
      ]
     },
     "execution_count": 9,
     "metadata": {},
     "output_type": "execute_result"
    }
   ],
   "source": [
    "grader.check(\"q1_3\")"
   ]
  },
  {
   "cell_type": "markdown",
   "metadata": {},
   "source": [
    "**Question 1.4:**\n",
    "To determine consumers' sensitivity to a change in taxes, we need to determine the changes in ad valorem taxes between each year and the corresponding change in the per capita beer consumption. Construct a new table `beer_state_changes` with these  2 columns: `tax_diff` and `consumption_diff`.\n",
    "\n",
    "_Hint:_ Use `np.diff`.\n"
   ]
  },
  {
   "cell_type": "code",
   "execution_count": null,
   "metadata": {
    "tags": []
   },
   "outputs": [],
   "source": [
    "tax_diff = ...\n",
    "per_capita_consumption_diff = ...\n",
    "beer_state_changes = ...\n",
    "beer_state_changes"
   ]
  },
  {
   "cell_type": "code",
   "execution_count": null,
   "metadata": {
    "deletable": false,
    "editable": false
   },
   "outputs": [],
   "source": [
    "grader.check(\"q1_4\")"
   ]
  },
  {
   "cell_type": "markdown",
   "metadata": {},
   "source": [
    "**Question 1.5:**\n",
    "Now we are ready to plot our results. What kind of graph will be most appropriate to denote the relationship between changes in taxes and changes in consumption?\n",
    "\n",
    "<ol style=\"list-style-type: lower-alpha;\">\n",
    "    <li>Line plot</li>\n",
    "    <li>Histogram</li>\n",
    "    <li>Scatter plot</li>\n",
    "    <li>Bar chart</li>\n",
    "</ol>\n",
    "\n",
    "Assign `q5` to letter corresponding to your choice.\n"
   ]
  },
  {
   "cell_type": "code",
   "execution_count": null,
   "metadata": {
    "tags": []
   },
   "outputs": [],
   "source": [
    "q1_5 = ..."
   ]
  },
  {
   "cell_type": "code",
   "execution_count": null,
   "metadata": {
    "deletable": false,
    "editable": false
   },
   "outputs": [],
   "source": [
    "grader.check(\"q1_5\")"
   ]
  },
  {
   "cell_type": "markdown",
   "metadata": {},
   "source": [
    "<!-- BEGIN QUESTION -->\n",
    "\n",
    "**Question 1.6.1:**\n",
    "Plot the results from `beer_state_changes` using a scatter plot.\n"
   ]
  },
  {
   "cell_type": "code",
   "execution_count": null,
   "metadata": {
    "tags": []
   },
   "outputs": [],
   "source": [
    "..."
   ]
  },
  {
   "cell_type": "markdown",
   "metadata": {},
   "source": [
    "<!-- END QUESTION -->\n",
    "\n",
    "<!-- BEGIN QUESTION -->\n",
    "\n",
    "**Question 1.6.2:**\n",
    "What is the relationship between changes in taxes and changes in per capita beer consumption?\n"
   ]
  },
  {
   "cell_type": "markdown",
   "metadata": {},
   "source": [
    "_Type your answer here, replacing this text._"
   ]
  },
  {
   "cell_type": "markdown",
   "metadata": {},
   "source": [
    "<!-- END QUESTION -->\n",
    "\n",
    "\n",
    "\n",
    "We will conduct a linear regression to determine the slope and intercept."
   ]
  },
  {
   "cell_type": "code",
   "execution_count": null,
   "metadata": {},
   "outputs": [],
   "source": [
    "beer_state_changes.scatter(0, 1, fit_line=True)"
   ]
  },
  {
   "cell_type": "markdown",
   "metadata": {},
   "source": [
    "What are the values of the intercept and slope terms? \n",
    "\n",
    "To answer this, we can use `np.polyfit` with degree 1, which returns the slope and intercept terms in that order."
   ]
  },
  {
   "cell_type": "code",
   "execution_count": null,
   "metadata": {},
   "outputs": [],
   "source": [
    "np.polyfit(x = beer_state_changes.column(\"tax_diff\"), y=beer_state_changes.column(\"consumption_diff\"), deg=1)"
   ]
  },
  {
   "cell_type": "markdown",
   "metadata": {},
   "source": [
    "<!-- BEGIN QUESTION -->\n",
    "\n",
    "**Question 1.7:**\n",
    "Interpret the slope and intercept values from the previous part in context of this dataset.\n"
   ]
  },
  {
   "cell_type": "markdown",
   "metadata": {},
   "source": [
    "_Type your answer here, replacing this text._"
   ]
  },
  {
   "cell_type": "markdown",
   "metadata": {},
   "source": [
    "<!-- END QUESTION -->\n",
    "\n",
    "Now let's see if the phenomenon applies to all states, across all years.\n",
    "\n"
   ]
  },
  {
   "cell_type": "code",
   "execution_count": null,
   "metadata": {},
   "outputs": [],
   "source": [
    "# You do not have to understand how the code below works, but it works very similarly to what you've done above!\n",
    "import pandas as pd\n",
    "data = pd.read_stata(\"alcohol_data.dta\")\n",
    "data = data[[\"st_name\", \"year\", \"c_beer\", \"population\", \"beer_tax\", \"salestax\"]]\n",
    "data['beer_pc'] = data.c_beer / data.population\n",
    "data = data.dropna(axis = 0)\n",
    "def state_group(df):\n",
    "    tax_diff = np.diff(df[\"beer_tax\"])\n",
    "    cons_diff = np.diff(df[\"beer_pc\"])\n",
    "    return pd.DataFrame({\"tax_diff\": tax_diff, \"cons_diff\": cons_diff})\n",
    "differences = data.groupby(\"st_name\").apply(state_group)\n",
    "diff = Table.from_df(differences)\n",
    "diff.scatter(0, 1)"
   ]
  },
  {
   "cell_type": "markdown",
   "metadata": {},
   "source": [
    "The data seems to be a little messy, but a downward sloping trend seems to appear. Nonetheless, let's try to clean it up a little. \n",
    "\n",
    "We will aggregate the data based on state so that each state will be one data point. Each point represents a state's average change in taxes and consumption across the years."
   ]
  },
  {
   "cell_type": "code",
   "execution_count": null,
   "metadata": {},
   "outputs": [],
   "source": [
    "# You also do not have to understand how the code below works.\n",
    "def state_group(df):\n",
    "    tax_diff = np.mean(np.diff(df[\"beer_tax\"]))\n",
    "    cons_diff = np.mean(np.diff(df[\"beer_pc\"]))\n",
    "    return pd.DataFrame({\"tax_diff\": tax_diff, \"cons_diff\": cons_diff}, index=[0])\n",
    "differences = data.groupby(\"st_name\").apply(state_group)\n",
    "diff = Table.from_df(differences)\n",
    "diff.scatter(0, 1)"
   ]
  },
  {
   "cell_type": "markdown",
   "metadata": {},
   "source": [
    "<!-- BEGIN QUESTION -->\n",
    "\n",
    "**Question 1.8:**\n",
    "Which graph better represents the relationship between changes in taxes and beer consumption? Why? Note that there is no 'correct' solution here, we just expect you to reasonably justify your choice.\n"
   ]
  },
  {
   "cell_type": "markdown",
   "metadata": {},
   "source": [
    "_Type your answer here, replacing this text._"
   ]
  },
  {
   "cell_type": "markdown",
   "metadata": {},
   "source": [
    "<!-- END QUESTION -->\n",
    "\n",
    "<!-- BEGIN QUESTION -->\n",
    "\n",
    "**Qustion 1.9:**\n",
    "Up until now, we've been examining the effect of changes in the ad valorem tax on beer consumption. But what about the excise tax? Unlike ad valorem taxes, an excise tax is included as part of the label price.\n",
    "\n",
    "Intuitively, do you expect consumers be more elastic towards changes in the ad valorem tax or excise tax? Why?\n"
   ]
  },
  {
   "cell_type": "markdown",
   "metadata": {},
   "source": [
    "_Type your answer here, replacing this text._"
   ]
  },
  {
   "cell_type": "markdown",
   "metadata": {},
   "source": [
    "<!-- END QUESTION -->\n",
    "\n",
    "Let's put this theory to the test. Each row in the table `excise_changes` displays an event in which there was a change in the excise tax, and its corresponding change in beer consumption. For example, from the table we can see that Arkansas has historically changed its beer excise tax three times. "
   ]
  },
  {
   "cell_type": "code",
   "execution_count": null,
   "metadata": {},
   "outputs": [],
   "source": [
    "# You do not need to understand how this code works.\n",
    "excise_changes = pd.DataFrame({\"st_name\":[], \"excise_tax_change\":[], \"c_beer_change\":[]})\n",
    "beer_df = beer.to_df()\n",
    "for row_index in range(beer_df.shape[0]):\n",
    "    if row_index == 0:\n",
    "        continue\n",
    "    if beer_df.iloc[row_index, 4] != beer_df.iloc[row_index-1, 4] and beer_df.iloc[row_index, 0] == beer_df.iloc[row_index-1, 0]:\n",
    "        excise_changes = pd.concat([excise_changes, pd.DataFrame({\"st_name\": beer_df.iloc[row_index, 0], \n",
    "                                                \"excise_tax_change\": beer_df.iloc[row_index, 4] - beer_df.iloc[row_index-1, 4],\n",
    "                                                \"c_beer_change\": beer_df.iloc[row_index, 7] - beer_df.iloc[row_index-1, 7]}, index=[row_index])], ignore_index=True)\n",
    "excise_changes = Table.from_df(excise_changes[[\"st_name\", \"excise_tax_change\", \"c_beer_change\"]])\n",
    "excise_changes"
   ]
  },
  {
   "cell_type": "code",
   "execution_count": null,
   "metadata": {},
   "outputs": [],
   "source": [
    "excise_changes.scatter(1,2,fit_line=True)"
   ]
  },
  {
   "cell_type": "markdown",
   "metadata": {},
   "source": [
    "**Question 1.10.1:**\n",
    "Using `np.polyfit`, determine the slope and intercept terms for this regression on the table `excise_changes`.\n",
    "\n",
    "Recall that `np.polyfit` follows the syntax: `np.polyfit(<x array>, <y array>, <degree>)`.\n"
   ]
  },
  {
   "cell_type": "code",
   "execution_count": null,
   "metadata": {
    "tags": []
   },
   "outputs": [],
   "source": [
    "coeffs = ...\n",
    "coeffs"
   ]
  },
  {
   "cell_type": "code",
   "execution_count": null,
   "metadata": {
    "deletable": false,
    "editable": false
   },
   "outputs": [],
   "source": [
    "grader.check(\"q1_10_1\")"
   ]
  },
  {
   "cell_type": "markdown",
   "metadata": {},
   "source": [
    "<!-- BEGIN QUESTION -->\n",
    "\n",
    "**Question 1.10.2:**\n",
    "Interpret the results above from `np.polyfit`.\n",
    "\n",
    "*Hint:* Be aware of the units of the excise tax!\n"
   ]
  },
  {
   "cell_type": "markdown",
   "metadata": {},
   "source": [
    "_Type your answer here, replacing this text._"
   ]
  },
  {
   "cell_type": "markdown",
   "metadata": {},
   "source": [
    "<!-- END QUESTION -->\n",
    "\n",
    "## Question 2: Tax Equilibria with SymPy"
   ]
  },
  {
   "cell_type": "markdown",
   "metadata": {},
   "source": [
    "*From Gruber, Ch.19, Q.4*\n",
    "\n",
    "The demand for football tickets is $Q = 360 − 10P$ and the supply of football tickets is $Q = 20P$. "
   ]
  },
  {
   "cell_type": "markdown",
   "metadata": {},
   "source": [
    "**Question 2.1:**\n",
    "Calculate the quantity and price at the equilibrium. Assign these values to `quantity_no_tax` and `price_no_tax`, respectively.\n"
   ]
  },
  {
   "cell_type": "code",
   "execution_count": null,
   "metadata": {
    "tags": []
   },
   "outputs": [],
   "source": [
    "P = sympy.Symbol(\"P\")\n",
    "supply = ...\n",
    "demand = ...\n",
    "price_no_tax = ...\n",
    "quantity_no_tax = ...\n",
    "print(\"The equilibrium price is\", price_no_tax, \"; the equilibrium quantity is\", quantity_no_tax)"
   ]
  },
  {
   "cell_type": "code",
   "execution_count": null,
   "metadata": {
    "deletable": false,
    "editable": false
   },
   "outputs": [],
   "source": [
    "grader.check(\"q2_1\")"
   ]
  },
  {
   "cell_type": "markdown",
   "metadata": {},
   "source": [
    "**Question 2.2:**\n",
    "Assume that the government implements a per-ticket tax of $4 when consumers purchase a ticket. What is the new price received by producers and price paid by consumers?\n"
   ]
  },
  {
   "cell_type": "code",
   "execution_count": null,
   "metadata": {
    "tags": []
   },
   "outputs": [],
   "source": [
    "demand_with_tax = ...\n",
    "price_received_with_tax = ...\n",
    "price_paid_demand_with_tax = ...\n",
    "print(\"The new price received by producers is\", price_received_with_tax, \n",
    "      \"; the new price paid by consumers is\", price_paid_demand_with_tax)"
   ]
  },
  {
   "cell_type": "code",
   "execution_count": null,
   "metadata": {
    "deletable": false,
    "editable": false
   },
   "outputs": [],
   "source": [
    "grader.check(\"q2_2\")"
   ]
  },
  {
   "cell_type": "markdown",
   "metadata": {},
   "source": [
    "<!-- BEGIN QUESTION -->\n",
    "\n",
    "**Question 2.3:**\n",
    "Who bears a larger burden of the tax? Why?\n"
   ]
  },
  {
   "cell_type": "markdown",
   "metadata": {},
   "source": [
    "_Type your answer here, replacing this text._"
   ]
  },
  {
   "cell_type": "markdown",
   "metadata": {},
   "source": [
    "<!-- END QUESTION -->\n",
    "\n",
    "**Question 2.4:**\n",
    "Continue to assume that the government implements a per-ticket tax of \\$4. How many less tickets are sold due to the tax?\n"
   ]
  },
  {
   "cell_type": "code",
   "execution_count": null,
   "metadata": {
    "tags": []
   },
   "outputs": [],
   "source": [
    "quantity_with_tax = ...\n",
    "difference_in_quantity = ...\n",
    "print(\"The difference in quantity transacted is\", difference_in_quantity)"
   ]
  },
  {
   "cell_type": "code",
   "execution_count": null,
   "metadata": {
    "deletable": false,
    "editable": false
   },
   "outputs": [],
   "source": [
    "grader.check(\"q2_4\")"
   ]
  },
  {
   "cell_type": "markdown",
   "metadata": {
    "deletable": false,
    "editable": false
   },
   "source": [
    "## Submission\n",
    "\n",
    "Make sure you have run all cells in your notebook in order before running the cell below, so that all images/graphs appear in the output. The cell below will generate a zip file for you to submit. **Please save before exporting!**"
   ]
  },
  {
   "cell_type": "code",
   "execution_count": 10,
   "metadata": {
    "deletable": false,
    "editable": false
   },
   "outputs": [
    {
     "name": "stdout",
     "output_type": "stream",
     "text": [
      "Running your submission against local test cases...\n",
      "\n",
      "\n",
      "\n",
      "Your submission received the following results when run against available test cases:\n",
      "\n",
      "    q1_1 results: All test cases passed!\n",
      "\n",
      "    q1_2 results: All test cases passed!\n",
      "\n",
      "    q1_3 results: All test cases passed!\n",
      "\n",
      "    q1_4 results:\n",
      "        q1_4 - 1 result:\n",
      "            ❌ Test case failed\n",
      "            Trying:\n",
      "                len(beer_state_changes) == 2\n",
      "            Expecting:\n",
      "                True\n",
      "            **********************************************************************\n",
      "            Line 1, in q1_4 0\n",
      "            Failed example:\n",
      "                len(beer_state_changes) == 2\n",
      "            Exception raised:\n",
      "                Traceback (most recent call last):\n",
      "                  File \"/opt/conda/lib/python3.9/doctest.py\", line 1334, in __run\n",
      "                    exec(compile(example.source, filename, \"single\",\n",
      "                  File \"<doctest q1_4 0[0]>\", line 1, in <module>\n",
      "                    len(beer_state_changes) == 2\n",
      "                TypeError: object of type 'ellipsis' has no len()\n",
      "\n",
      "        q1_4 - 2 result:\n",
      "            ❌ Test case failed\n",
      "            Trying:\n",
      "                beer_state_changes.num_rows == 33\n",
      "            Expecting:\n",
      "                True\n",
      "            **********************************************************************\n",
      "            Line 1, in q1_4 1\n",
      "            Failed example:\n",
      "                beer_state_changes.num_rows == 33\n",
      "            Exception raised:\n",
      "                Traceback (most recent call last):\n",
      "                  File \"/opt/conda/lib/python3.9/doctest.py\", line 1334, in __run\n",
      "                    exec(compile(example.source, filename, \"single\",\n",
      "                  File \"<doctest q1_4 1[0]>\", line 1, in <module>\n",
      "                    beer_state_changes.num_rows == 33\n",
      "                AttributeError: 'ellipsis' object has no attribute 'num_rows'\n",
      "\n",
      "        q1_4 - 3 result:\n",
      "            ❌ Test case failed\n",
      "            Trying:\n",
      "                for l in [\"tax_diff\", \"consumption_diff\"]:\n",
      "                    assert l in beer_state_changes.labels\n",
      "            Expecting nothing\n",
      "            **********************************************************************\n",
      "            Line 1, in q1_4 2\n",
      "            Failed example:\n",
      "                for l in [\"tax_diff\", \"consumption_diff\"]:\n",
      "                    assert l in beer_state_changes.labels\n",
      "            Exception raised:\n",
      "                Traceback (most recent call last):\n",
      "                  File \"/opt/conda/lib/python3.9/doctest.py\", line 1334, in __run\n",
      "                    exec(compile(example.source, filename, \"single\",\n",
      "                  File \"<doctest q1_4 2[0]>\", line 2, in <module>\n",
      "                    assert l in beer_state_changes.labels\n",
      "                AttributeError: 'ellipsis' object has no attribute 'labels'\n",
      "\n",
      "    q1_5 results:\n",
      "        q1_5 - 1 result:\n",
      "            ❌ Test case failed\n",
      "            Trying:\n",
      "                q1_5 in [\"a\", \"b\", \"c\", \"d\"]\n",
      "            Expecting:\n",
      "                True\n",
      "            **********************************************************************\n",
      "            Line 1, in q1_5 0\n",
      "            Failed example:\n",
      "                q1_5 in [\"a\", \"b\", \"c\", \"d\"]\n",
      "            Expected:\n",
      "                True\n",
      "            Got:\n",
      "                False\n",
      "\n",
      "    q1_10_1 results:\n",
      "        q1_10_1 - 1 result:\n",
      "            ❌ Test case failed\n",
      "            Trying:\n",
      "                len(coeffs) == 2\n",
      "            Expecting:\n",
      "                True\n",
      "            **********************************************************************\n",
      "            Line 1, in q1_10_1 0\n",
      "            Failed example:\n",
      "                len(coeffs) == 2\n",
      "            Exception raised:\n",
      "                Traceback (most recent call last):\n",
      "                  File \"/opt/conda/lib/python3.9/doctest.py\", line 1334, in __run\n",
      "                    exec(compile(example.source, filename, \"single\",\n",
      "                  File \"<doctest q1_10_1 0[0]>\", line 1, in <module>\n",
      "                    len(coeffs) == 2\n",
      "                TypeError: object of type 'ellipsis' has no len()\n",
      "\n",
      "        q1_10_1 - 2 result:\n",
      "            ❌ Test case failed\n",
      "            Trying:\n",
      "                -5 <= coeffs[0] <= 0 \n",
      "            Expecting:\n",
      "                True\n",
      "            **********************************************************************\n",
      "            Line 1, in q1_10_1 1\n",
      "            Failed example:\n",
      "                -5 <= coeffs[0] <= 0 \n",
      "            Exception raised:\n",
      "                Traceback (most recent call last):\n",
      "                  File \"/opt/conda/lib/python3.9/doctest.py\", line 1334, in __run\n",
      "                    exec(compile(example.source, filename, \"single\",\n",
      "                  File \"<doctest q1_10_1 1[0]>\", line 1, in <module>\n",
      "                    -5 <= coeffs[0] <= 0\n",
      "                TypeError: 'ellipsis' object is not subscriptable\n",
      "\n",
      "        q1_10_1 - 3 result:\n",
      "            ❌ Test case failed\n",
      "            Trying:\n",
      "                0 <= coeffs[1] <= 1\n",
      "            Expecting:\n",
      "                True\n",
      "            **********************************************************************\n",
      "            Line 1, in q1_10_1 2\n",
      "            Failed example:\n",
      "                0 <= coeffs[1] <= 1\n",
      "            Exception raised:\n",
      "                Traceback (most recent call last):\n",
      "                  File \"/opt/conda/lib/python3.9/doctest.py\", line 1334, in __run\n",
      "                    exec(compile(example.source, filename, \"single\",\n",
      "                  File \"<doctest q1_10_1 2[0]>\", line 1, in <module>\n",
      "                    0 <= coeffs[1] <= 1\n",
      "                TypeError: 'ellipsis' object is not subscriptable\n",
      "\n",
      "    q2_1 results:\n",
      "        q2_1 - 1 result:\n",
      "            ❌ Test case failed\n",
      "            Trying:\n",
      "                5 <= price_no_tax <= 15\n",
      "            Expecting:\n",
      "                True\n",
      "            **********************************************************************\n",
      "            Line 1, in q2_1 0\n",
      "            Failed example:\n",
      "                5 <= price_no_tax <= 15\n",
      "            Exception raised:\n",
      "                Traceback (most recent call last):\n",
      "                  File \"/opt/conda/lib/python3.9/doctest.py\", line 1334, in __run\n",
      "                    exec(compile(example.source, filename, \"single\",\n",
      "                  File \"<doctest q2_1 0[0]>\", line 1, in <module>\n",
      "                    5 <= price_no_tax <= 15\n",
      "                TypeError: '<=' not supported between instances of 'int' and 'ellipsis'\n",
      "\n",
      "        q2_1 - 2 result:\n",
      "            ❌ Test case failed\n",
      "            Trying:\n",
      "                200 <= quantity_no_tax <= 250\n",
      "            Expecting:\n",
      "                True\n",
      "            **********************************************************************\n",
      "            Line 1, in q2_1 1\n",
      "            Failed example:\n",
      "                200 <= quantity_no_tax <= 250\n",
      "            Exception raised:\n",
      "                Traceback (most recent call last):\n",
      "                  File \"/opt/conda/lib/python3.9/doctest.py\", line 1334, in __run\n",
      "                    exec(compile(example.source, filename, \"single\",\n",
      "                  File \"<doctest q2_1 1[0]>\", line 1, in <module>\n",
      "                    200 <= quantity_no_tax <= 250\n",
      "                TypeError: '<=' not supported between instances of 'int' and 'ellipsis'\n",
      "\n",
      "    q2_2 results:\n",
      "        q2_2 - 1 result:\n",
      "            ❌ Test case failed\n",
      "            Trying:\n",
      "                10 <= price_received_with_tax <= 15\n",
      "            Expecting:\n",
      "                True\n",
      "            **********************************************************************\n",
      "            Line 1, in q2_2 0\n",
      "            Failed example:\n",
      "                10 <= price_received_with_tax <= 15\n",
      "            Exception raised:\n",
      "                Traceback (most recent call last):\n",
      "                  File \"/opt/conda/lib/python3.9/doctest.py\", line 1334, in __run\n",
      "                    exec(compile(example.source, filename, \"single\",\n",
      "                  File \"<doctest q2_2 0[0]>\", line 1, in <module>\n",
      "                    10 <= price_received_with_tax <= 15\n",
      "                TypeError: '<=' not supported between instances of 'int' and 'ellipsis'\n",
      "\n",
      "        q2_2 - 2 result:\n",
      "            ❌ Test case failed\n",
      "            Trying:\n",
      "                10 <= price_paid_demand_with_tax <= 15\n",
      "            Expecting:\n",
      "                True\n",
      "            **********************************************************************\n",
      "            Line 1, in q2_2 1\n",
      "            Failed example:\n",
      "                10 <= price_paid_demand_with_tax <= 15\n",
      "            Exception raised:\n",
      "                Traceback (most recent call last):\n",
      "                  File \"/opt/conda/lib/python3.9/doctest.py\", line 1334, in __run\n",
      "                    exec(compile(example.source, filename, \"single\",\n",
      "                  File \"<doctest q2_2 1[0]>\", line 1, in <module>\n",
      "                    10 <= price_paid_demand_with_tax <= 15\n",
      "                TypeError: '<=' not supported between instances of 'int' and 'ellipsis'\n",
      "\n",
      "    q2_4 results:\n",
      "        q2_4 - 1 result:\n",
      "            ❌ Test case failed\n",
      "            Trying:\n",
      "                25 <= difference_in_quantity <= 30\n",
      "            Expecting:\n",
      "                True\n",
      "            **********************************************************************\n",
      "            Line 1, in q2_4 0\n",
      "            Failed example:\n",
      "                25 <= difference_in_quantity <= 30\n",
      "            Exception raised:\n",
      "                Traceback (most recent call last):\n",
      "                  File \"/opt/conda/lib/python3.9/doctest.py\", line 1334, in __run\n",
      "                    exec(compile(example.source, filename, \"single\",\n",
      "                  File \"<doctest q2_4 0[0]>\", line 1, in <module>\n",
      "                    25 <= difference_in_quantity <= 30\n",
      "                TypeError: '<=' not supported between instances of 'int' and 'ellipsis'\n"
     ]
    },
    {
     "data": {
      "text/html": [
       "\n",
       "            <p>Your submission has been exported. Click <a href=\"lab03_2023_09_13T16_13_14_553464.zip\" download=\"lab03_2023_09_13T16_13_14_553464.zip\" target=\"_blank\">here</a>\n",
       "            to download the zip file.</p>\n",
       "            "
      ],
      "text/plain": [
       "<IPython.core.display.HTML object>"
      ]
     },
     "metadata": {},
     "output_type": "display_data"
    }
   ],
   "source": [
    "# Save your notebook first, then run this cell to export your submission.\n",
    "grader.export(pdf=False, run_tests=True)"
   ]
  },
  {
   "cell_type": "markdown",
   "metadata": {},
   "source": [
    " "
   ]
  }
 ],
 "metadata": {
  "kernelspec": {
   "display_name": "Python 3 (ipykernel)",
   "language": "python",
   "name": "python3"
  },
  "language_info": {
   "codemirror_mode": {
    "name": "ipython",
    "version": 3
   },
   "file_extension": ".py",
   "mimetype": "text/x-python",
   "name": "python",
   "nbconvert_exporter": "python",
   "pygments_lexer": "ipython3",
   "version": "3.9.15"
  },
  "otter": {
   "OK_FORMAT": true,
   "tests": {
    "q1_1": {
     "name": "q1_1",
     "points": [
      0
     ],
     "suites": [
      {
       "cases": [
        {
         "code": ">>> q1_1 in [\"a\", \"b\", \"c\", \"d\"]\nTrue",
         "hidden": false,
         "locked": false
        }
       ],
       "scored": true,
       "setup": "",
       "teardown": "",
       "type": "doctest"
      }
     ]
    },
    "q1_10_1": {
     "name": "q1_10_1",
     "points": null,
     "suites": [
      {
       "cases": [
        {
         "code": ">>> len(coeffs) == 2\nTrue",
         "hidden": false,
         "locked": false
        },
        {
         "code": ">>> -5 <= coeffs[0] <= 0 \nTrue",
         "hidden": false,
         "locked": false
        },
        {
         "code": ">>> 0 <= coeffs[1] <= 1\nTrue",
         "hidden": false,
         "locked": false
        }
       ],
       "scored": true,
       "setup": "",
       "teardown": "",
       "type": "doctest"
      }
     ]
    },
    "q1_2": {
     "name": "q1_2",
     "points": null,
     "suites": [
      {
       "cases": [
        {
         "code": ">>> len(beer) == 8\nTrue",
         "hidden": false,
         "locked": false
        },
        {
         "code": ">>> \"pc_beer\" in beer.labels\nTrue",
         "hidden": false,
         "locked": false
        }
       ],
       "scored": true,
       "setup": "",
       "teardown": "",
       "type": "doctest"
      }
     ]
    },
    "q1_3": {
     "name": "q1_3",
     "points": null,
     "suites": [
      {
       "cases": [
        {
         "code": ">>> len(np.unique(beer_state[\"st_name\"])) == 1\nTrue",
         "hidden": false,
         "locked": false
        },
        {
         "code": ">>> \"CA\" in np.unique(beer_state[\"st_name\"])\nTrue",
         "hidden": false,
         "locked": false
        },
        {
         "code": ">>> beer_state.num_rows == 34\nTrue",
         "hidden": false,
         "locked": false
        }
       ],
       "scored": true,
       "setup": "",
       "teardown": "",
       "type": "doctest"
      }
     ]
    },
    "q1_4": {
     "name": "q1_4",
     "points": null,
     "suites": [
      {
       "cases": [
        {
         "code": ">>> len(beer_state_changes) == 2\nTrue",
         "hidden": false,
         "locked": false
        },
        {
         "code": ">>> beer_state_changes.num_rows == 33\nTrue",
         "hidden": false,
         "locked": false
        },
        {
         "code": ">>> for l in [\"tax_diff\", \"consumption_diff\"]:\n...     assert l in beer_state_changes.labels\n",
         "hidden": false,
         "locked": false
        }
       ],
       "scored": true,
       "setup": "",
       "teardown": "",
       "type": "doctest"
      }
     ]
    },
    "q1_5": {
     "name": "q1_5",
     "points": null,
     "suites": [
      {
       "cases": [
        {
         "code": ">>> q1_5 in [\"a\", \"b\", \"c\", \"d\"]\nTrue",
         "hidden": false,
         "locked": false
        }
       ],
       "scored": true,
       "setup": "",
       "teardown": "",
       "type": "doctest"
      }
     ]
    },
    "q2_1": {
     "name": "q2_1",
     "points": null,
     "suites": [
      {
       "cases": [
        {
         "code": ">>> 5 <= price_no_tax <= 15\nTrue",
         "hidden": false,
         "locked": false
        },
        {
         "code": ">>> 200 <= quantity_no_tax <= 250\nTrue",
         "hidden": false,
         "locked": false
        }
       ],
       "scored": true,
       "setup": "",
       "teardown": "",
       "type": "doctest"
      }
     ]
    },
    "q2_2": {
     "name": "q2_2",
     "points": null,
     "suites": [
      {
       "cases": [
        {
         "code": ">>> 10 <= price_received_with_tax <= 15\nTrue",
         "hidden": false,
         "locked": false
        },
        {
         "code": ">>> 10 <= price_paid_demand_with_tax <= 15\nTrue",
         "hidden": false,
         "locked": false
        }
       ],
       "scored": true,
       "setup": "",
       "teardown": "",
       "type": "doctest"
      }
     ]
    },
    "q2_4": {
     "name": "q2_4",
     "points": null,
     "suites": [
      {
       "cases": [
        {
         "code": ">>> 25 <= difference_in_quantity <= 30\nTrue",
         "hidden": false,
         "locked": false
        }
       ],
       "scored": true,
       "setup": "",
       "teardown": "",
       "type": "doctest"
      }
     ]
    }
   }
  },
  "varInspector": {
   "cols": {
    "lenName": 16,
    "lenType": 16,
    "lenVar": 40
   },
   "kernels_config": {
    "python": {
     "delete_cmd_postfix": "",
     "delete_cmd_prefix": "del ",
     "library": "var_list.py",
     "varRefreshCmd": "print(var_dic_list())"
    },
    "r": {
     "delete_cmd_postfix": ") ",
     "delete_cmd_prefix": "rm(",
     "library": "var_list.r",
     "varRefreshCmd": "cat(var_dic_list()) "
    }
   },
   "types_to_exclude": [
    "module",
    "function",
    "builtin_function_or_method",
    "instance",
    "_Feature"
   ],
   "window_display": false
  }
 },
 "nbformat": 4,
 "nbformat_minor": 4
}
