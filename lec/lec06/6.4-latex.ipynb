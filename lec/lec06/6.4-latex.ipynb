{
 "cells": [
  {
   "cell_type": "markdown",
   "id": "094f0bcf",
   "metadata": {},
   "source": [
    "<table style=\"width: 100%;\">\n",
    "    <tr style=\"background-color: transparent;\"><td>\n",
    "        <img src=\"https://data-88e.github.io/assets/images/blue_text.png\" width=\"250px\" style=\"margin-left: 0;\" />\n",
    "    </td><td>\n",
    "        <p style=\"text-align: right; font-size: 10pt;\"><strong>Economic Models</strong><br>\n",
    "            Dr. Eric Van Dusen <br>\n",
    "            Akhil Venkatesh\n",
    "             </p></td></tr>\n",
    "</table>"
   ]
  },
  {
   "cell_type": "markdown",
   "id": "08b1f06a",
   "metadata": {},
   "source": [
    "## Writing Equations in LaTeX\n",
    "### Start by building up from elements"
   ]
  },
  {
   "cell_type": "markdown",
   "id": "07b112c8",
   "metadata": {},
   "source": [
    "Let's start writing equations and make them more complicated little by little - let's use the $ sign to offset the equations within the cell. All of these will be in Markdown cells.  When we use two dollar signs we get the equation displayed on its own line."
   ]
  },
  {
   "cell_type": "markdown",
   "id": "98f4f754",
   "metadata": {},
   "source": [
    "Start with a function that takes two arguments K and L\n",
    "$$\n",
    "f(K, L) \n",
    "$$"
   ]
  },
  {
   "cell_type": "markdown",
   "id": "4d97af79",
   "metadata": {},
   "source": [
    "then we want to use a greek symbol $alpha$\n",
    "that we will use a \\ to denote\n",
    "$$\n",
    "\\alpha\n",
    "$$\n",
    "\n",
    "\n",
    "\n",
    "\n"
   ]
  },
  {
   "cell_type": "markdown",
   "id": "12401281",
   "metadata": {},
   "source": [
    "And we want to raise the value of K to the power of $\\alpha$\n",
    "$$\n",
    "K^\\alpha\n",
    "$$"
   ]
  },
  {
   "cell_type": "markdown",
   "id": "6cbc92b9",
   "metadata": {},
   "source": [
    "**Your turn!** You can go ahead and do the same thing for $L$ to the power of $\\beta$\n",
    "$$\n",
    ".... \n",
    "$$\n"
   ]
  },
  {
   "cell_type": "markdown",
   "id": "9572a2df",
   "metadata": {},
   "source": [
    "Let's combine these elements to be the basis of the Cobb-Douglas Production Function:\n",
    "$$\n",
    "f(K, L) = K^\\alpha L^\\beta \\\\\n",
    "$$"
   ]
  },
  {
   "cell_type": "markdown",
   "id": "c124643d",
   "metadata": {},
   "source": [
    "For modeling National GDP we can also add in $Y$ and the technology shifter $A$\n",
    "$$\n",
    "Y = A \\cdot f(K, L) = A K^\\alpha L^\\beta\n",
    "$$"
   ]
  },
  {
   "cell_type": "markdown",
   "id": "b74738f5",
   "metadata": {},
   "source": [
    "A common simplification is to constrain $ \\alpha + \\beta = 1 $ which can be rearranged to\n",
    "$$\n",
    "\\beta = 1 - \\alpha\n",
    "$$"
   ]
  },
  {
   "cell_type": "markdown",
   "id": "f62f9a2e",
   "metadata": {},
   "source": [
    "So then we can rewrite the original equation as: \n",
    "$$\n",
    "Y = A K^\\alpha L^{1 - \\alpha}\n",
    "$$\n"
   ]
  },
  {
   "cell_type": "markdown",
   "id": "fe9dd148",
   "metadata": {},
   "source": [
    "## Writing Equations in LaTeX\n",
    "Try completing some of these exercises as practice!\n",
    "\n",
    "If you get stuck, check out the LaTeX Guide: https://math.hws.edu/gassert/LaTeX_Guide_Title.pdf!"
   ]
  },
  {
   "cell_type": "markdown",
   "id": "fa524287",
   "metadata": {},
   "source": [
    "**1. Quadratic Formula:**"
   ]
  },
  {
   "attachments": {
    "quadratic.PNG": {
     "image/png": "[encoded data removed]"
    }
   },
   "cell_type": "markdown",
   "id": "215e8d4c",
   "metadata": {},
   "source": [
    "![quadratic.PNG](attachment:quadratic.PNG)"
   ]
  },
  {
   "cell_type": "markdown",
   "id": "7075b0f4",
   "metadata": {},
   "source": [
    "**Try it out!**\n",
    "$$\n",
    ".... \n",
    "$$\n"
   ]
  }
 ],
 "metadata": {
  "kernelspec": {
   "display_name": "Python 3 (ipykernel)",
   "language": "python",
   "name": "python3"
  },
  "language_info": {
   "codemirror_mode": {
    "name": "ipython",
    "version": 3
   },
   "file_extension": ".py",
   "mimetype": "text/x-python",
   "name": "python",
   "nbconvert_exporter": "python",
   "pygments_lexer": "ipython3",
   "version": "3.8.15"
  }
 },
 "nbformat": 4,
 "nbformat_minor": 5
}
