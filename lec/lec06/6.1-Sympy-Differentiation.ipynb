{
 "cells": [
  {
   "cell_type": "markdown",
   "id": "57f1b3b9-eb4c-480b-b2f4-94fc224a0770",
   "metadata": {},
   "source": [
    "<table style=\"width: 100%;\">\n",
    "    <tr style=\"background-color: transparent;\"><td>\n",
    "        <img src=\"https://data-88e.github.io/assets/images/blue_text.png\" width=\"250px\" style=\"margin-left: 0;\" />\n",
    "    </td><td>\n",
    "        <p style=\"text-align: right; font-size: 10pt;\"><strong>Economic Models</strong>, Fall 2023<br>\n",
    "            Dr. Eric Van Dusen\n",
    "        </p></td></tr>\n",
    "</table>"
   ]
  },
  {
   "cell_type": "code",
   "execution_count": null,
   "id": "8660285a-584f-4f4c-8702-e3153515c181",
   "metadata": {},
   "outputs": [],
   "source": []
  },
  {
   "cell_type": "markdown",
   "id": "8ed7692a-1140-4f97-9b6a-57f67219fb13",
   "metadata": {},
   "source": [
    "# Using Sympy to take Derivatives"
   ]
  },
  {
   "cell_type": "code",
   "execution_count": 1,
   "id": "7f5baab5-feb8-4de3-831c-ce9c913446c9",
   "metadata": {
    "tags": []
   },
   "outputs": [],
   "source": [
    "import sympy as sp\n",
    "import numpy as np\n",
    "import matplotlib.pyplot as plt"
   ]
  },
  {
   "cell_type": "markdown",
   "id": "afdcec3a-9975-45e6-a703-34eb2524696b",
   "metadata": {
    "tags": []
   },
   "source": [
    "## Let's start with the Cobb - Douglas Production Function"
   ]
  },
  {
   "cell_type": "markdown",
   "id": "67f85f89-0ff6-4376-a338-cdf53f91a3fa",
   "metadata": {},
   "source": [
    "$Q = A  \\cdot L^{\\alpha} \\cdot K^\\beta$"
   ]
  },
  {
   "cell_type": "markdown",
   "id": "b459d1d7-e4c8-432d-ae4a-264e93a1096f",
   "metadata": {},
   "source": [
    "$\\frac{dQ}{dL} = A \\cdot \\alpha \\cdot L^{\\alpha - 1} \\cdot K^\\beta$\n"
   ]
  },
  {
   "cell_type": "markdown",
   "id": "858b5c34-9873-498f-99ef-ca710419d66d",
   "metadata": {},
   "source": [
    "$\\frac{d^2Q}{dL^2} = A \\cdot \\alpha (\\alpha - 1) \\cdot L^{\\alpha - 2} \\cdot K^\\beta$\n"
   ]
  },
  {
   "cell_type": "markdown",
   "id": "7d865f1c-4006-4f0b-96cb-a75400cbc86e",
   "metadata": {},
   "source": [
    "Define the symbols and variables\n",
    " - which symbols will we need for the Cobb Douglas formulation?\n",
    " - Declare them as symbols"
   ]
  },
  {
   "cell_type": "code",
   "execution_count": 2,
   "id": "d441d91b-ff95-44a1-bdf7-0a3f62a2b5d2",
   "metadata": {},
   "outputs": [],
   "source": [
    "Q, A, L, K, alpha, beta = sp.symbols('Q A L K alpha beta')"
   ]
  },
  {
   "cell_type": "markdown",
   "id": "0307a53b-3d19-4286-a8d7-b66a810cbde9",
   "metadata": {},
   "source": [
    "Define the Cobb-Douglas production function\n",
    " - writing this equation in its Python formulation\n",
    " - using the symbols we have already defined"
   ]
  },
  {
   "cell_type": "code",
   "execution_count": 3,
   "id": "43f2f69e-60e5-4185-888e-5bf574d98f07",
   "metadata": {},
   "outputs": [],
   "source": [
    "cobb_douglas = A * L**alpha * K**beta"
   ]
  },
  {
   "cell_type": "markdown",
   "id": "2eca87ec-415b-424c-81c5-b032a28d924c",
   "metadata": {},
   "source": [
    "Calculate the **first derivative** with respect to **L**\n",
    "\n",
    "- This is a *partial derivative*\n",
    "\n",
    "- sympy.diff ( original equation, thing you are taking the derivative over ) \n",
    "\n",
    "- Save that as an equation for future use!"
   ]
  },
  {
   "cell_type": "code",
   "execution_count": 4,
   "id": "a10ad86c-d879-469c-9c62-64febd27b5f3",
   "metadata": {},
   "outputs": [],
   "source": [
    "first_derivative = sp.diff(cobb_douglas, L)"
   ]
  },
  {
   "cell_type": "markdown",
   "id": "da23e05a-cb6b-4399-8f46-5b2128db26e5",
   "metadata": {},
   "source": [
    "Print this result\n",
    " - you can just ask sympy to print - spprint ()\n",
    " - you can add some text \"First Derivative is..\"\n"
   ]
  },
  {
   "cell_type": "code",
   "execution_count": 5,
   "id": "dc8a49b1-7bbc-483c-a49b-54169e1f8345",
   "metadata": {},
   "outputs": [
    {
     "name": "stdout",
     "output_type": "stream",
     "text": [
      "First Derivative:\n",
      "   β  α  \n",
      "A⋅K ⋅L ⋅α\n",
      "─────────\n",
      "    L    \n"
     ]
    }
   ],
   "source": [
    "print(\"First Derivative:\")\n",
    "sp.pprint(first_derivative)"
   ]
  },
  {
   "cell_type": "markdown",
   "id": "a8fb9287-16ad-4081-bb7a-e1a14438b085",
   "metadata": {},
   "source": [
    "This doesnt Look so great \n",
    "- lets pass in our function and get sympy to simplify it\n",
    "- what form you want an equaiton to be in can take many forms"
   ]
  },
  {
   "cell_type": "code",
   "execution_count": 6,
   "id": "97a74449-95d5-4c01-b74b-21b9da2eba6c",
   "metadata": {},
   "outputs": [
    {
     "name": "stdout",
     "output_type": "stream",
     "text": [
      "A*K**beta*L**(alpha - 1)*alpha\n"
     ]
    }
   ],
   "source": [
    "simplified_first_derivative = sp.simplify(first_derivative)\n",
    "print(simplified_first_derivative)\n"
   ]
  },
  {
   "cell_type": "markdown",
   "id": "27a709a2-a256-47b4-ae76-0918969d2e8c",
   "metadata": {},
   "source": [
    "Print Result - Variation\n",
    "- you can also save as Latex !\n",
    "- It won't render yet - but you can copy paste this into Markdown cell "
   ]
  },
  {
   "cell_type": "code",
   "execution_count": 7,
   "id": "400129d8-7ef7-4b16-bb93-6dddefed79d5",
   "metadata": {},
   "outputs": [
    {
     "name": "stdout",
     "output_type": "stream",
     "text": [
      "First Derivative (LaTeX):\n",
      "\\frac{A K^{\\beta} L^{\\alpha} \\alpha}{L}\n"
     ]
    }
   ],
   "source": [
    "first_derivative_latex = sp.latex(first_derivative)\n",
    "print(\"First Derivative (LaTeX):\")\n",
    "print(first_derivative_latex)"
   ]
  },
  {
   "cell_type": "markdown",
   "id": "f0c8c5f1-07cf-423e-b621-49f152e2593f",
   "metadata": {},
   "source": [
    "$\\frac{A K^{\\beta} L^{\\alpha} \\alpha}{L}$"
   ]
  },
  {
   "cell_type": "markdown",
   "id": "a767aabd-5723-4845-9f1d-e3d99d2b8107",
   "metadata": {},
   "source": [
    "Calculate the **second derivative** with respect to **L**\n",
    " - use the first derivative that you saved\n",
    " - take the derivatie again with respect to variable of interes, L\n",
    " - save that equation "
   ]
  },
  {
   "cell_type": "code",
   "execution_count": 8,
   "id": "faafde1c-3d06-4fcb-8cff-d10c5b4e0969",
   "metadata": {},
   "outputs": [],
   "source": [
    "second_derivative = sp.diff(first_derivative, L)"
   ]
  },
  {
   "cell_type": "code",
   "execution_count": 9,
   "id": "1a47a189-7cfd-48b5-bdab-1c3374eff7b9",
   "metadata": {},
   "outputs": [
    {
     "name": "stdout",
     "output_type": "stream",
     "text": [
      "   β  α  2      β  α  \n",
      "A⋅K ⋅L ⋅α    A⋅K ⋅L ⋅α\n",
      "────────── - ─────────\n",
      "     2            2   \n",
      "    L            L    \n"
     ]
    }
   ],
   "source": [
    "sp.pprint(second_derivative)"
   ]
  },
  {
   "cell_type": "code",
   "execution_count": 10,
   "id": "ab2b16bf-cffa-44b6-a5bc-9a040c743933",
   "metadata": {},
   "outputs": [
    {
     "name": "stdout",
     "output_type": "stream",
     "text": [
      "\\frac{A K^{\\beta} L^{\\alpha} \\alpha^{2}}{L^{2}} - \\frac{A K^{\\beta} L^{\\alpha} \\alpha}{L^{2}}\n"
     ]
    }
   ],
   "source": [
    "second_derivative_latex = sp.latex(second_derivative)\n",
    "print(second_derivative_latex)\n"
   ]
  },
  {
   "cell_type": "markdown",
   "id": "d7589628-dcf8-47d3-8ec3-779dcd3e33bc",
   "metadata": {},
   "source": [
    "Pasting this into a Markdown cell and adding \"dollar signs\"\n",
    "\n",
    "$\\frac{A K^{\\beta} L^{\\alpha} \\alpha^{2}}{L^{2}} - \\frac{A K^{\\beta} L^{\\alpha} \\alpha}{L^{2}}$\n"
   ]
  },
  {
   "cell_type": "markdown",
   "id": "d3b54aa9-8f17-42c5-b509-4a9e01822320",
   "metadata": {},
   "source": [
    "First Derivative (LaTeX):\n",
    "$\\frac{A K^{\\beta} L^{\\alpha} \\alpha}{L}$\n",
    "\n",
    "Second Derivative (LaTeX):\n",
    "$\\frac{A K^{\\beta} L^{\\alpha} \\alpha^{2}}{L^{2}} - \\frac{A K^{\\beta} L^{\\alpha} \\alpha}{L^{2}}$\n"
   ]
  },
  {
   "cell_type": "markdown",
   "id": "1a35dc3e-f42a-45b7-b4b8-d6caf3d5b4b6",
   "metadata": {},
   "source": [
    "Lets simplify both of these and generat the Latex"
   ]
  },
  {
   "cell_type": "code",
   "execution_count": 11,
   "id": "e37c721e-50f4-4419-829d-be76413d2473",
   "metadata": {},
   "outputs": [
    {
     "name": "stdout",
     "output_type": "stream",
     "text": [
      "A K^{\\beta} L^{\\alpha - 1} \\alpha\n"
     ]
    }
   ],
   "source": [
    "first_div_simp_latex = sp.latex(sp.simplify(first_derivative))\n",
    "print(first_div_simp_latex)"
   ]
  },
  {
   "cell_type": "code",
   "execution_count": 12,
   "id": "1dddf227-4a25-41fc-950b-5e9faba886a5",
   "metadata": {
    "tags": []
   },
   "outputs": [
    {
     "name": "stdout",
     "output_type": "stream",
     "text": [
      "A K^{\\beta} L^{\\alpha - 2} \\alpha \\left(\\alpha - 1\\right)\n"
     ]
    }
   ],
   "source": [
    "second_div_simp_latex = sp.latex(sp.simplify(sp.diff(first_derivative, L)))\n",
    "print(second_div_simp_latex)"
   ]
  },
  {
   "cell_type": "markdown",
   "id": "46410c75-d8cc-4f5b-ae53-2b6a32ef53cb",
   "metadata": {},
   "source": [
    "$$A K^{\\beta} L^{\\alpha - 1} \\alpha$$\n",
    "$$A K^{\\beta} L^{\\alpha - 2} \\alpha \\left(\\alpha - 1\\right)$$\n",
    "\n"
   ]
  },
  {
   "cell_type": "markdown",
   "id": "c5d741cd-d4a3-4b76-a4b2-3c383efd75b8",
   "metadata": {},
   "source": [
    "## Now Let's consider the simpler case of a Utility function \n",
    "- that has a Cobb-Douglas type formulation \n",
    "- consists of consuming two goods $X1$ and $X2$\n",
    "\n",
    "$  U = \\cdot X1^{\\alpha} \\cdot X2^{1-\\alpha}$\n"
   ]
  },
  {
   "cell_type": "code",
   "execution_count": 13,
   "id": "8cb996f8-c3d1-476c-afff-c95d5092f33e",
   "metadata": {},
   "outputs": [],
   "source": [
    "U, X1, X2, alpha = sp.symbols('U, X1, X2, alpha ')\n"
   ]
  },
  {
   "cell_type": "code",
   "execution_count": 14,
   "id": "d9cfc4f3-552a-4f73-b9aa-7067bb7318bf",
   "metadata": {},
   "outputs": [],
   "source": [
    "U =  X1**alpha * X2**(1-alpha)"
   ]
  },
  {
   "cell_type": "code",
   "execution_count": 15,
   "id": "1b765549-5f6b-40b1-b88f-a69295c48fa2",
   "metadata": {},
   "outputs": [],
   "source": [
    "first_deriv_x1 = sp.diff(U,X1)"
   ]
  },
  {
   "cell_type": "code",
   "execution_count": 16,
   "id": "a7289988-f45b-4a82-b463-cc6d433cd291",
   "metadata": {},
   "outputs": [],
   "source": [
    "second_deriv_x1 = sp.diff(first_deriv_x1, X1)"
   ]
  },
  {
   "cell_type": "code",
   "execution_count": 17,
   "id": "cd266c18-54c6-4793-a462-c004b67da41c",
   "metadata": {},
   "outputs": [
    {
     "name": "stdout",
     "output_type": "stream",
     "text": [
      "  α   1 - α  \n",
      "X₁ ⋅X₂     ⋅α\n",
      "─────────────\n",
      "      X₁     \n"
     ]
    }
   ],
   "source": [
    "sp.pprint(first_deriv_x1)"
   ]
  },
  {
   "cell_type": "code",
   "execution_count": 18,
   "id": "3a9fad42-ef1e-4a12-b1d4-8d283d21a278",
   "metadata": {},
   "outputs": [
    {
     "name": "stdout",
     "output_type": "stream",
     "text": [
      "  α   1 - α  2     α   1 - α  \n",
      "X₁ ⋅X₂     ⋅α    X₁ ⋅X₂     ⋅α\n",
      "────────────── - ─────────────\n",
      "       2                2     \n",
      "     X₁               X₁      \n"
     ]
    }
   ],
   "source": [
    "sp.pprint(second_deriv_x1)"
   ]
  },
  {
   "cell_type": "code",
   "execution_count": 19,
   "id": "1e334505-6688-4e2a-a17b-37e5a3cf8c0f",
   "metadata": {
    "tags": []
   },
   "outputs": [
    {
     "data": {
      "text/latex": [
       "$\\displaystyle X_{1}^{\\alpha - 1} X_{2}^{1 - \\alpha} \\alpha$"
      ],
      "text/plain": [
       "X1**(alpha - 1)*X2**(1 - alpha)*alpha"
      ]
     },
     "execution_count": 19,
     "metadata": {},
     "output_type": "execute_result"
    }
   ],
   "source": [
    "sp.simplify(first_deriv_x1) "
   ]
  },
  {
   "cell_type": "code",
   "execution_count": 20,
   "id": "66f4e50f-da35-48eb-9fb6-c1fc0a6137eb",
   "metadata": {
    "tags": []
   },
   "outputs": [
    {
     "data": {
      "text/latex": [
       "$\\displaystyle X_{1}^{\\alpha - 2} X_{2}^{1 - \\alpha} \\alpha \\left(\\alpha - 1\\right)$"
      ],
      "text/plain": [
       "X1**(alpha - 2)*X2**(1 - alpha)*alpha*(alpha - 1)"
      ]
     },
     "execution_count": 20,
     "metadata": {},
     "output_type": "execute_result"
    }
   ],
   "source": [
    "sp.simplify( second_deriv_x1)"
   ]
  },
  {
   "cell_type": "code",
   "execution_count": 29,
   "id": "d3ff9a84-124f-4d3d-9a06-4a2a1f28c15f",
   "metadata": {},
   "outputs": [
    {
     "name": "stdout",
     "output_type": "stream",
     "text": [
      "X_{1}^{\\alpha - 1} X_{2}^{1 - \\alpha} \\alpha\n",
      "X_{1}^{\\alpha - 2} X_{2}^{1 - \\alpha} \\alpha \\left(\\alpha - 1\\right)\n"
     ]
    }
   ],
   "source": [
    "first_deriv_x1_latex = sp.latex(sp.simplify(first_deriv_x1))\n",
    "print(first_deriv_x1_latex)\n",
    "second_deriv_x1_latex = sp.latex(sp.simplify(second_deriv_x1))\n",
    "print(second_deriv_x1_latex)\n"
   ]
  },
  {
   "cell_type": "markdown",
   "id": "2cfea904-561a-4433-9653-828ca0a19ccc",
   "metadata": {},
   "source": [
    "First Derivative (LaTeX):\n",
    "$X_{1}^{\\alpha - 1} X_{2}^{1 - \\alpha} \\alpha$\n",
    "\n",
    "Second Derivative (LaTeX):\n",
    "$X_{1}^{\\alpha - 2} X_{2}^{1 - \\alpha} \\alpha \\left(\\alpha - 1\\right)\n",
    "$"
   ]
  },
  {
   "cell_type": "markdown",
   "id": "143f691b-2372-45ff-bcbb-fd46d1a5a409",
   "metadata": {},
   "source": [
    "Lets get Numeric!\n",
    "- Lets declare some variables as constants ( alpha, x2) \n",
    "- and pass in a range for X1"
   ]
  },
  {
   "cell_type": "code",
   "execution_count": 22,
   "id": "ef4c3207-ab6b-4d73-8173-aa7e64869e8e",
   "metadata": {},
   "outputs": [],
   "source": [
    "alpha = 0.5  # You can change the value of alpha as needed\n",
    "X1_values = np.linspace(0.1, 2.0, 100)  # Range of X1 values\n",
    "X2 = 1.0  # Fixed value for X2"
   ]
  },
  {
   "cell_type": "code",
   "execution_count": 23,
   "id": "ad4673d2-53a0-41ba-be8e-34e3bf13b2db",
   "metadata": {},
   "outputs": [
    {
     "data": {
      "text/plain": [
       "array([0.1       , 0.11919192, 0.13838384, 0.15757576, 0.17676768,\n",
       "       0.1959596 , 0.21515152, 0.23434343, 0.25353535, 0.27272727,\n",
       "       0.29191919, 0.31111111, 0.33030303, 0.34949495, 0.36868687,\n",
       "       0.38787879, 0.40707071, 0.42626263, 0.44545455, 0.46464646,\n",
       "       0.48383838, 0.5030303 , 0.52222222, 0.54141414, 0.56060606,\n",
       "       0.57979798, 0.5989899 , 0.61818182, 0.63737374, 0.65656566,\n",
       "       0.67575758, 0.69494949, 0.71414141, 0.73333333, 0.75252525,\n",
       "       0.77171717, 0.79090909, 0.81010101, 0.82929293, 0.84848485,\n",
       "       0.86767677, 0.88686869, 0.90606061, 0.92525253, 0.94444444,\n",
       "       0.96363636, 0.98282828, 1.0020202 , 1.02121212, 1.04040404,\n",
       "       1.05959596, 1.07878788, 1.0979798 , 1.11717172, 1.13636364,\n",
       "       1.15555556, 1.17474747, 1.19393939, 1.21313131, 1.23232323,\n",
       "       1.25151515, 1.27070707, 1.28989899, 1.30909091, 1.32828283,\n",
       "       1.34747475, 1.36666667, 1.38585859, 1.40505051, 1.42424242,\n",
       "       1.44343434, 1.46262626, 1.48181818, 1.5010101 , 1.52020202,\n",
       "       1.53939394, 1.55858586, 1.57777778, 1.5969697 , 1.61616162,\n",
       "       1.63535354, 1.65454545, 1.67373737, 1.69292929, 1.71212121,\n",
       "       1.73131313, 1.75050505, 1.76969697, 1.78888889, 1.80808081,\n",
       "       1.82727273, 1.84646465, 1.86565657, 1.88484848, 1.9040404 ,\n",
       "       1.92323232, 1.94242424, 1.96161616, 1.98080808, 2.        ])"
      ]
     },
     "execution_count": 23,
     "metadata": {},
     "output_type": "execute_result"
    }
   ],
   "source": [
    "X1_values"
   ]
  },
  {
   "cell_type": "code",
   "execution_count": 24,
   "id": "58893ff1-6503-4bd0-b5de-cde9454dc453",
   "metadata": {},
   "outputs": [
    {
     "data": {
      "text/plain": [
       "array([0.31622777, 0.34524183, 0.37199978, 0.39695813, 0.42043748,\n",
       "       0.44267324, 0.46384428, 0.48409032, 0.50352294, 0.52223297,\n",
       "       0.54029547, 0.55777335, 0.57471996, 0.59118098, 0.60719591,\n",
       "       0.62279916, 0.63802093, 0.65288791, 0.66742381, 0.68164981,\n",
       "       0.69558492, 0.70924629, 0.72264945, 0.7358085 , 0.74873631,\n",
       "       0.76144467, 0.77394438, 0.78624539, 0.7983569 , 0.81028739,\n",
       "       0.82204475, 0.83363631, 0.84506888, 0.85634884, 0.86748213,\n",
       "       0.87847434, 0.8893307 , 0.90005611, 0.91065522, 0.92113237,\n",
       "       0.93149169, 0.94173706, 0.95187216, 0.96190048, 0.97182532,\n",
       "       0.98164982, 0.99137696, 1.00100959, 1.01055041, 1.02000198,\n",
       "       1.02936678, 1.03864714, 1.04784531, 1.05696344, 1.06600358,\n",
       "       1.0749677 , 1.08385768, 1.09267534, 1.1014224 , 1.11010055,\n",
       "       1.11871138, 1.12725644, 1.1357372 , 1.14415511, 1.15251153,\n",
       "       1.1608078 , 1.16904519, 1.17722495, 1.18534826, 1.19341628,\n",
       "       1.20143012, 1.20939086, 1.21729954, 1.22515717, 1.23296473,\n",
       "       1.24072315, 1.24843336, 1.25609625, 1.26371266, 1.27128345,\n",
       "       1.27880942, 1.28629136, 1.29373002, 1.30112616, 1.3084805 ,\n",
       "       1.31579373, 1.32306653, 1.33029958, 1.33749351, 1.34464895,\n",
       "       1.35176652, 1.35884681, 1.36589039, 1.37289784, 1.37986971,\n",
       "       1.38680652, 1.39370881, 1.40057708, 1.40741184, 1.41421356])"
      ]
     },
     "execution_count": 24,
     "metadata": {},
     "output_type": "execute_result"
    }
   ],
   "source": [
    "U_values = X1_values**alpha * X2**(1 - alpha)\n",
    "U_values"
   ]
  },
  {
   "cell_type": "code",
   "execution_count": 25,
   "id": "b28356b5-eb17-415e-9f66-9a906925d702",
   "metadata": {},
   "outputs": [
    {
     "data": {
      "text/plain": [
       "array([1.58113883, 1.44826021, 1.34408681, 1.25957868, 1.18923745,\n",
       "       1.1295013 , 1.07794797, 1.03286511, 0.99300341, 0.95742711,\n",
       "       0.92541957, 0.89642146, 0.86998893, 0.84576469, 0.82345746,\n",
       "       0.80282704, 0.78367335, 0.76582824, 0.74914918, 0.73351447,\n",
       "       0.71881949, 0.70497372, 0.69189841, 0.67952464, 0.66779184,\n",
       "       0.65664653, 0.64604126, 0.63593377, 0.62628631, 0.61706501,\n",
       "       0.60823939, 0.59978194, 0.59166775, 0.58387421, 0.57638075,\n",
       "       0.56916859, 0.56222056, 0.55552092, 0.54905522, 0.54281015,\n",
       "       0.53677344, 0.53093376, 0.52528062, 0.5198043 , 0.51449576,\n",
       "       0.5093466 , 0.50434902, 0.49949571, 0.49477987, 0.49019513,\n",
       "       0.48573551, 0.48139544, 0.47716967, 0.47305326, 0.46904158,\n",
       "       0.46513025, 0.46131518, 0.45759246, 0.45395844, 0.45040965,\n",
       "       0.4469428 , 0.4435548 , 0.44024269, 0.43700369, 0.43383514,\n",
       "       0.43073453, 0.42769946, 0.42472766, 0.42181696, 0.41896529,\n",
       "       0.41617069, 0.41343127, 0.41074525, 0.4081109 , 0.4055266 ,\n",
       "       0.40299079, 0.40050195, 0.39805867, 0.39565956, 0.39330332,\n",
       "       0.39098867, 0.38871442, 0.3864794 , 0.38428249, 0.38212262,\n",
       "       0.37999877, 0.37790994, 0.37585519, 0.37383359, 0.37184426,\n",
       "       0.36988636, 0.36795906, 0.36606158, 0.36419316, 0.36235305,\n",
       "       0.36054056, 0.358755  , 0.3569957 , 0.35526204, 0.35355339])"
      ]
     },
     "execution_count": 25,
     "metadata": {},
     "output_type": "execute_result"
    }
   ],
   "source": [
    "first_derivative_values = alpha * X1_values**(alpha - 1) * X2**(1 - alpha)\n",
    "first_derivative_values"
   ]
  },
  {
   "cell_type": "code",
   "execution_count": 26,
   "id": "fb914e75-73ee-47a4-90b9-68f8431a78f3",
   "metadata": {},
   "outputs": [
    {
     "data": {
      "text/plain": [
       "array([-7.90569415, -6.07532883, -4.85637204, -3.99674006, -3.36384308,\n",
       "       -2.88197498, -2.50509036, -2.20374238, -1.9583135 , -1.75528303,\n",
       "       -1.5850612 , -1.44067734, -1.31695572, -1.20998128, -1.11674368,\n",
       "       -1.03489423, -0.96257645, -0.89830564, -0.84088173, -0.78932535,\n",
       "       -0.74283016, -0.70072689, -0.66245592, -0.62754607, -0.59559813,\n",
       "       -0.56627184, -0.53927559, -0.5143582 , -0.49130226, -0.46991874,\n",
       "       -0.4500426 , -0.43152916, -0.41425111, -0.39809605, -0.38296439,\n",
       "       -0.3687676 , -0.35542679, -0.34287139, -0.33103816, -0.31987027,\n",
       "       -0.30931648, -0.29933054, -0.28987058, -0.28089861, -0.27238011,\n",
       "       -0.26428361, -0.25658044, -0.24924433, -0.24225127, -0.23557921,\n",
       "       -0.22920789, -0.22311867, -0.21729438, -0.21171913, -0.20637829,\n",
       "       -0.20125828, -0.19634653, -0.19163136, -0.18710194, -0.18274818,\n",
       "       -0.17856068, -0.1745307 , -0.17065006, -0.16691113, -0.16330676,\n",
       "       -0.15983028, -0.15647541, -0.15323629, -0.1501074 , -0.14708356,\n",
       "       -0.1441599 , -0.14133182, -0.13859502, -0.13594542, -0.13337918,\n",
       "       -0.13089268, -0.12848248, -0.12614535, -0.12387823, -0.12167821,\n",
       "       -0.11954255, -0.11746864, -0.11545401, -0.11349632, -0.11159333,\n",
       "       -0.10974294, -0.10794312, -0.10619196, -0.10448765, -0.10282844,\n",
       "       -0.10121269, -0.09963881, -0.0981053 , -0.09661073, -0.09515372,\n",
       "       -0.09373297, -0.09234723, -0.0909953 , -0.08967604, -0.08838835])"
      ]
     },
     "execution_count": 26,
     "metadata": {},
     "output_type": "execute_result"
    }
   ],
   "source": [
    "second_derivative_values = alpha * (alpha - 1) * X1_values**(alpha - 2) * X2**(1 - alpha)\n",
    "second_derivative_values"
   ]
  },
  {
   "cell_type": "code",
   "execution_count": 27,
   "id": "925462c2-20b8-44f8-8b59-11b750f94ad8",
   "metadata": {},
   "outputs": [
    {
     "data": {
      "image/png": "[encoded data removed]",
      "text/plain": [
       "<Figure size 800x600 with 1 Axes>"
      ]
     },
     "metadata": {},
     "output_type": "display_data"
    }
   ],
   "source": [
    "plt.figure(figsize=(8, 6))\n",
    "plt.plot(X1_values, U_values, label='U')\n",
    "plt.plot(X1_values, first_derivative_values, label='First Derivative')\n",
    "plt.plot(X1_values, second_derivative_values, label='Second Derivative')\n",
    "plt.xlabel('X1')\n",
    "plt.ylabel('First Derivative')\n",
    "plt.title('First Derivative and Second Derivative of U')\n",
    "plt.legend()\n",
    "plt.grid(True)\n",
    "plt.show()\n"
   ]
  },
  {
   "cell_type": "code",
   "execution_count": 28,
   "id": "5f41f092-adbd-4b4b-b570-eef54fb1362f",
   "metadata": {},
   "outputs": [
    {
     "data": {
      "image/png": "[encoded data removed]",
      "text/plain": [
       "<Figure size 1200x600 with 2 Axes>"
      ]
     },
     "metadata": {},
     "output_type": "display_data"
    }
   ],
   "source": [
    "\n",
    "\n",
    "# Create a figure with two subplots (one for U and one for the first derivative)\n",
    "fig, (ax1, ax2) = plt.subplots(1, 2, figsize=(12, 6))\n",
    "\n",
    "# Plot the original function U on the left subplot\n",
    "ax1.plot(X1_values, U_values, label='U')\n",
    "ax1.set_xlabel('X1')\n",
    "ax1.set_ylabel('U')\n",
    "ax1.set_title('Utility Function ')\n",
    "\n",
    "# Plot the first derivative on the right subplot\n",
    "ax2.plot(X1_values, first_derivative_values, label='First Derivative', color='orange')\n",
    "ax2.set_xlabel('X1')\n",
    "ax2.set_ylabel('First Derivative')\n",
    "ax2.set_title('First Derivative')\n",
    "\n",
    "# Show the plot\n",
    "plt.show()\n"
   ]
  },
  {
   "cell_type": "code",
   "execution_count": null,
   "id": "3b0e7dbd-cc78-4ad5-b562-e3e64d11e05a",
   "metadata": {},
   "outputs": [],
   "source": []
  }
 ],
 "metadata": {
  "kernelspec": {
   "display_name": "Python 3 (ipykernel)",
   "language": "python",
   "name": "python3"
  },
  "language_info": {
   "codemirror_mode": {
    "name": "ipython",
    "version": 3
   },
   "file_extension": ".py",
   "mimetype": "text/x-python",
   "name": "python",
   "nbconvert_exporter": "python",
   "pygments_lexer": "ipython3",
   "version": "3.8.15"
  }
 },
 "nbformat": 4,
 "nbformat_minor": 5
}
