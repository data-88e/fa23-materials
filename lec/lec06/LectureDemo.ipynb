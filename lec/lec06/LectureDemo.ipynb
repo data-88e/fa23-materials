{
 "cells": [
  {
   "cell_type": "code",
   "execution_count": 19,
   "id": "ed78debe-f526-4800-b039-ca11a52ca509",
   "metadata": {},
   "outputs": [],
   "source": [
    "import sympy as sp\n",
    "import numpy as np\n"
   ]
  },
  {
   "cell_type": "code",
   "execution_count": 4,
   "id": "c59b5c54-070b-4b02-be72-564081734b99",
   "metadata": {},
   "outputs": [],
   "source": [
    "U, X1, X2, alpha = sp.symbols( 'U, X1, X2, alpha')"
   ]
  },
  {
   "cell_type": "code",
   "execution_count": 6,
   "id": "b9ea7a7f-c5af-4cfd-bf6b-c3b9b4d20a6e",
   "metadata": {},
   "outputs": [],
   "source": [
    "U=X1**alpha*X2**(1-alpha)"
   ]
  },
  {
   "cell_type": "code",
   "execution_count": 7,
   "id": "6d18044b-13dc-4733-b308-42a8a9ae42ef",
   "metadata": {},
   "outputs": [
    {
     "data": {
      "text/latex": [
       "$\\displaystyle \\frac{X_{1}^{\\alpha} X_{2}^{1 - \\alpha} \\alpha}{X_{1}}$"
      ],
      "text/plain": [
       "X1**alpha*X2**(1 - alpha)*alpha/X1"
      ]
     },
     "execution_count": 7,
     "metadata": {},
     "output_type": "execute_result"
    }
   ],
   "source": [
    "sp.diff(U,X1)"
   ]
  },
  {
   "cell_type": "code",
   "execution_count": 9,
   "id": "b95f3365-3959-48d5-bc9a-b6b257970395",
   "metadata": {},
   "outputs": [
    {
     "data": {
      "text/latex": [
       "$\\displaystyle X_{1}^{\\alpha - 1} X_{2}^{1 - \\alpha} \\alpha$"
      ],
      "text/plain": [
       "X1**(alpha - 1)*X2**(1 - alpha)*alpha"
      ]
     },
     "execution_count": 9,
     "metadata": {},
     "output_type": "execute_result"
    }
   ],
   "source": [
    "sp.simplify(sp.diff(U,X1))"
   ]
  },
  {
   "cell_type": "code",
   "execution_count": 10,
   "id": "62359519-07c5-4833-90f8-4777bea7ebe3",
   "metadata": {},
   "outputs": [],
   "source": [
    "first_deriv = sp.simplify(sp.diff(U,X1))"
   ]
  },
  {
   "cell_type": "code",
   "execution_count": 11,
   "id": "b807f3e6-76f1-41d9-8454-1d888abe5afc",
   "metadata": {},
   "outputs": [
    {
     "name": "stdout",
     "output_type": "stream",
     "text": [
      "  α - 1   1 - α  \n",
      "X₁     ⋅X₂     ⋅α\n"
     ]
    }
   ],
   "source": [
    "sp.pprint(first_deriv)"
   ]
  },
  {
   "cell_type": "code",
   "execution_count": 13,
   "id": "dbaac6ec-fab0-430e-a587-b6ea7ce958e4",
   "metadata": {},
   "outputs": [
    {
     "name": "stdout",
     "output_type": "stream",
     "text": [
      "  α - 2   1 - α          \n",
      "X₁     ⋅X₂     ⋅α⋅(α - 1)\n"
     ]
    }
   ],
   "source": [
    "second_deriv = sp.simplify(sp.diff(first_deriv,X1))\n",
    "sp.pprint(second_deriv)"
   ]
  },
  {
   "cell_type": "code",
   "execution_count": 14,
   "id": "900385b8-d0ab-4a08-856b-c4a6d3af5573",
   "metadata": {},
   "outputs": [
    {
     "data": {
      "text/latex": [
       "$\\displaystyle X_{1}^{\\alpha - 2} X_{2}^{1 - \\alpha} \\alpha \\left(\\alpha - 1\\right)$"
      ],
      "text/plain": [
       "X1**(alpha - 2)*X2**(1 - alpha)*alpha*(alpha - 1)"
      ]
     },
     "execution_count": 14,
     "metadata": {},
     "output_type": "execute_result"
    }
   ],
   "source": [
    "sp.simplify(sp.diff(first_deriv,X1))"
   ]
  },
  {
   "cell_type": "code",
   "execution_count": 16,
   "id": "84199553-5929-4c8b-99e0-ec6f97217e9a",
   "metadata": {},
   "outputs": [
    {
     "data": {
      "text/plain": [
       "'X_{1}^{\\\\alpha - 1} X_{2}^{1 - \\\\alpha} \\\\alpha'"
      ]
     },
     "execution_count": 16,
     "metadata": {},
     "output_type": "execute_result"
    }
   ],
   "source": [
    "sp.latex(first_deriv)"
   ]
  },
  {
   "cell_type": "markdown",
   "id": "9337709a-07b1-43ef-8b0d-95564b1eefda",
   "metadata": {},
   "source": [
    "$'X_{1}^{\\\\alpha - 1} X_{2}^{1 - \\\\alpha} \\\\alpha'$\n"
   ]
  },
  {
   "cell_type": "code",
   "execution_count": 17,
   "id": "fb640a9f-35fb-4172-9157-2c4fcdda147f",
   "metadata": {},
   "outputs": [
    {
     "data": {
      "text/plain": [
       "'X_{1}^{\\\\alpha - 2} X_{2}^{1 - \\\\alpha} \\\\alpha \\\\left(\\\\alpha - 1\\\\right)'"
      ]
     },
     "execution_count": 17,
     "metadata": {},
     "output_type": "execute_result"
    }
   ],
   "source": [
    "sp.latex(second_deriv)"
   ]
  },
  {
   "cell_type": "markdown",
   "id": "dc0ca468-bc77-4091-b453-f844e8a20117",
   "metadata": {},
   "source": [
    "$'X_{1}^{\\\\alpha - 2} X_{2}^{1 - \\\\alpha} \\\\alpha \\\\left(\\\\alpha - 1\\\\right)'$\n"
   ]
  },
  {
   "cell_type": "code",
   "execution_count": 22,
   "id": "00c96dbe-4e91-4e4d-8bf1-907df8568528",
   "metadata": {},
   "outputs": [],
   "source": [
    "alpha=0.5\n",
    "x2=1\n",
    "x1_values=np.linspace(0.1,2.0,100)"
   ]
  },
  {
   "cell_type": "code",
   "execution_count": 21,
   "id": "0dba392d-2284-44dd-9a98-df2accabc534",
   "metadata": {},
   "outputs": [
    {
     "data": {
      "text/plain": [
       "array([0.1       , 0.11919192, 0.13838384, 0.15757576, 0.17676768,\n",
       "       0.1959596 , 0.21515152, 0.23434343, 0.25353535, 0.27272727,\n",
       "       0.29191919, 0.31111111, 0.33030303, 0.34949495, 0.36868687,\n",
       "       0.38787879, 0.40707071, 0.42626263, 0.44545455, 0.46464646,\n",
       "       0.48383838, 0.5030303 , 0.52222222, 0.54141414, 0.56060606,\n",
       "       0.57979798, 0.5989899 , 0.61818182, 0.63737374, 0.65656566,\n",
       "       0.67575758, 0.69494949, 0.71414141, 0.73333333, 0.75252525,\n",
       "       0.77171717, 0.79090909, 0.81010101, 0.82929293, 0.84848485,\n",
       "       0.86767677, 0.88686869, 0.90606061, 0.92525253, 0.94444444,\n",
       "       0.96363636, 0.98282828, 1.0020202 , 1.02121212, 1.04040404,\n",
       "       1.05959596, 1.07878788, 1.0979798 , 1.11717172, 1.13636364,\n",
       "       1.15555556, 1.17474747, 1.19393939, 1.21313131, 1.23232323,\n",
       "       1.25151515, 1.27070707, 1.28989899, 1.30909091, 1.32828283,\n",
       "       1.34747475, 1.36666667, 1.38585859, 1.40505051, 1.42424242,\n",
       "       1.44343434, 1.46262626, 1.48181818, 1.5010101 , 1.52020202,\n",
       "       1.53939394, 1.55858586, 1.57777778, 1.5969697 , 1.61616162,\n",
       "       1.63535354, 1.65454545, 1.67373737, 1.69292929, 1.71212121,\n",
       "       1.73131313, 1.75050505, 1.76969697, 1.78888889, 1.80808081,\n",
       "       1.82727273, 1.84646465, 1.86565657, 1.88484848, 1.9040404 ,\n",
       "       1.92323232, 1.94242424, 1.96161616, 1.98080808, 2.        ])"
      ]
     },
     "execution_count": 21,
     "metadata": {},
     "output_type": "execute_result"
    }
   ],
   "source": [
    "x1"
   ]
  },
  {
   "cell_type": "code",
   "execution_count": 23,
   "id": "54f075b1-89c2-4d36-9286-717886323dff",
   "metadata": {},
   "outputs": [],
   "source": [
    "U_values = x1_values**alpha*x2**1-alpha"
   ]
  },
  {
   "cell_type": "code",
   "execution_count": 24,
   "id": "6af3a35f-6a70-4c45-b8dc-3873b8952597",
   "metadata": {},
   "outputs": [
    {
     "data": {
      "text/plain": [
       "array([-0.18377223, -0.15475817, -0.12800022, -0.10304187, -0.07956252,\n",
       "       -0.05732676, -0.03615572, -0.01590968,  0.00352294,  0.02223297,\n",
       "        0.04029547,  0.05777335,  0.07471996,  0.09118098,  0.10719591,\n",
       "        0.12279916,  0.13802093,  0.15288791,  0.16742381,  0.18164981,\n",
       "        0.19558492,  0.20924629,  0.22264945,  0.2358085 ,  0.24873631,\n",
       "        0.26144467,  0.27394438,  0.28624539,  0.2983569 ,  0.31028739,\n",
       "        0.32204475,  0.33363631,  0.34506888,  0.35634884,  0.36748213,\n",
       "        0.37847434,  0.3893307 ,  0.40005611,  0.41065522,  0.42113237,\n",
       "        0.43149169,  0.44173706,  0.45187216,  0.46190048,  0.47182532,\n",
       "        0.48164982,  0.49137696,  0.50100959,  0.51055041,  0.52000198,\n",
       "        0.52936678,  0.53864714,  0.54784531,  0.55696344,  0.56600358,\n",
       "        0.5749677 ,  0.58385768,  0.59267534,  0.6014224 ,  0.61010055,\n",
       "        0.61871138,  0.62725644,  0.6357372 ,  0.64415511,  0.65251153,\n",
       "        0.6608078 ,  0.66904519,  0.67722495,  0.68534826,  0.69341628,\n",
       "        0.70143012,  0.70939086,  0.71729954,  0.72515717,  0.73296473,\n",
       "        0.74072315,  0.74843336,  0.75609625,  0.76371266,  0.77128345,\n",
       "        0.77880942,  0.78629136,  0.79373002,  0.80112616,  0.8084805 ,\n",
       "        0.81579373,  0.82306653,  0.83029958,  0.83749351,  0.84464895,\n",
       "        0.85176652,  0.85884681,  0.86589039,  0.87289784,  0.87986971,\n",
       "        0.88680652,  0.89370881,  0.90057708,  0.90741184,  0.91421356])"
      ]
     },
     "execution_count": 24,
     "metadata": {},
     "output_type": "execute_result"
    }
   ],
   "source": [
    "U_values"
   ]
  },
  {
   "cell_type": "code",
   "execution_count": null,
   "id": "463895dc-7d47-4392-97e1-57354aa22c15",
   "metadata": {},
   "outputs": [],
   "source": [
    "first_deriv_values "
   ]
  }
 ],
 "metadata": {
  "kernelspec": {
   "display_name": "Python 3 (ipykernel)",
   "language": "python",
   "name": "python3"
  },
  "language_info": {
   "codemirror_mode": {
    "name": "ipython",
    "version": 3
   },
   "file_extension": ".py",
   "mimetype": "text/x-python",
   "name": "python",
   "nbconvert_exporter": "python",
   "pygments_lexer": "ipython3",
   "version": "3.8.15"
  }
 },
 "nbformat": 4,
 "nbformat_minor": 5
}
