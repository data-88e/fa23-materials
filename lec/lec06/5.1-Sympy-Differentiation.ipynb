{
 "cells": [
  {
   "cell_type": "markdown",
   "id": "57f1b3b9-eb4c-480b-b2f4-94fc224a0770",
   "metadata": {},
   "source": [
    "<table style=\"width: 100%;\">\n",
    "    <tr style=\"background-color: transparent;\"><td>\n",
    "        <img src=\"https://data-88e.github.io/assets/images/blue_text.png\" width=\"250px\" style=\"margin-left: 0;\" />\n",
    "    </td><td>\n",
    "        <p style=\"text-align: right; font-size: 10pt;\"><strong>Economic Models</strong>, Fall 2023<br>\n",
    "            Dr. Eric Van Dusen\n",
    "        </p></td></tr>\n",
    "</table>"
   ]
  },
  {
   "cell_type": "markdown",
   "id": "8ed7692a-1140-4f97-9b6a-57f67219fb13",
   "metadata": {},
   "source": [
    "# Using Sympy to take Derivatives"
   ]
  },
  {
   "cell_type": "code",
   "execution_count": null,
   "id": "7f5baab5-feb8-4de3-831c-ce9c913446c9",
   "metadata": {
    "tags": []
   },
   "outputs": [],
   "source": [
    "import sympy as sp\n",
    "import numpy as np\n",
    "import matplotlib.pyplot as plt"
   ]
  },
  {
   "cell_type": "markdown",
   "id": "afdcec3a-9975-45e6-a703-34eb2524696b",
   "metadata": {
    "tags": []
   },
   "source": [
    "## Let's start with the Cobb - Douglas Production Function"
   ]
  },
  {
   "cell_type": "markdown",
   "id": "67f85f89-0ff6-4376-a338-cdf53f91a3fa",
   "metadata": {},
   "source": [
    "$Q = A  \\cdot L^{\\alpha} \\cdot K^\\beta$"
   ]
  },
  {
   "cell_type": "markdown",
   "id": "b459d1d7-e4c8-432d-ae4a-264e93a1096f",
   "metadata": {},
   "source": [
    "$\\frac{dQ}{dL} = A \\cdot \\alpha \\cdot L^{\\alpha - 1} \\cdot K^\\beta$\n"
   ]
  },
  {
   "cell_type": "markdown",
   "id": "858b5c34-9873-498f-99ef-ca710419d66d",
   "metadata": {},
   "source": [
    "$\\frac{d^2Q}{dL^2} = A \\cdot \\alpha (\\alpha - 1) \\cdot L^{\\alpha - 2} \\cdot K^\\beta$\n"
   ]
  },
  {
   "cell_type": "markdown",
   "id": "7d865f1c-4006-4f0b-96cb-a75400cbc86e",
   "metadata": {},
   "source": [
    "Define the symbols and variables\n",
    " - which symbols will we need for the Cobb Douglas formulation?\n",
    " - Declare them as symbols"
   ]
  },
  {
   "cell_type": "code",
   "execution_count": null,
   "id": "d441d91b-ff95-44a1-bdf7-0a3f62a2b5d2",
   "metadata": {},
   "outputs": [],
   "source": [
    "Q, A, L, K, alpha, beta = sp.symbols('Q A L K alpha beta')"
   ]
  },
  {
   "cell_type": "markdown",
   "id": "0307a53b-3d19-4286-a8d7-b66a810cbde9",
   "metadata": {},
   "source": [
    "Define the Cobb-Douglas production function\n",
    " - writing this equation in its Python formulation\n",
    " - using the symbols we have already defined"
   ]
  },
  {
   "cell_type": "code",
   "execution_count": null,
   "id": "43f2f69e-60e5-4185-888e-5bf574d98f07",
   "metadata": {},
   "outputs": [],
   "source": [
    "cobb_douglas = A * L**alpha * K**beta"
   ]
  },
  {
   "cell_type": "markdown",
   "id": "2eca87ec-415b-424c-81c5-b032a28d924c",
   "metadata": {},
   "source": [
    "Calculate the **first derivative** with respect to **L**\n",
    "\n",
    "- This is a *partial derivative*\n",
    "\n",
    "- sympy.diff ( original equation, thing you are taking the derivative over ) \n",
    "\n",
    "- Save that as an equation for future use!"
   ]
  },
  {
   "cell_type": "code",
   "execution_count": null,
   "id": "a10ad86c-d879-469c-9c62-64febd27b5f3",
   "metadata": {},
   "outputs": [],
   "source": [
    "first_derivative = sp.diff(cobb_douglas, L)"
   ]
  },
  {
   "cell_type": "markdown",
   "id": "da23e05a-cb6b-4399-8f46-5b2128db26e5",
   "metadata": {},
   "source": [
    "Print this result\n",
    " - you can just ask sympy to print - spprint ()\n",
    " - you can add some text \"First Derivative is..\"\n"
   ]
  },
  {
   "cell_type": "code",
   "execution_count": null,
   "id": "dc8a49b1-7bbc-483c-a49b-54169e1f8345",
   "metadata": {},
   "outputs": [],
   "source": [
    "print(\"First Derivative:\")\n",
    "sp.pprint(first_derivative)"
   ]
  },
  {
   "cell_type": "markdown",
   "id": "a8fb9287-16ad-4081-bb7a-e1a14438b085",
   "metadata": {},
   "source": [
    "This doesnt Look so great \n",
    "- lets pass in our function and get sympy to simplify it\n",
    "- what form you want an equaiton to be in can take many forms"
   ]
  },
  {
   "cell_type": "code",
   "execution_count": null,
   "id": "97a74449-95d5-4c01-b74b-21b9da2eba6c",
   "metadata": {},
   "outputs": [],
   "source": [
    "simplified_first_derivative = sp.simplify(first_derivative)\n",
    "print(simplified_first_derivative)\n"
   ]
  },
  {
   "cell_type": "markdown",
   "id": "27a709a2-a256-47b4-ae76-0918969d2e8c",
   "metadata": {},
   "source": [
    "Print Result - Variation\n",
    "- you can also save as Latex !\n",
    "- It won't render yet - but you can copy paste this into Markdown cell "
   ]
  },
  {
   "cell_type": "code",
   "execution_count": null,
   "id": "400129d8-7ef7-4b16-bb93-6dddefed79d5",
   "metadata": {},
   "outputs": [],
   "source": [
    "first_derivative_latex = sp.latex(first_derivative)\n",
    "print(\"First Derivative (LaTeX):\")\n",
    "print(first_derivative_latex)"
   ]
  },
  {
   "cell_type": "markdown",
   "id": "f0c8c5f1-07cf-423e-b621-49f152e2593f",
   "metadata": {},
   "source": [
    "$\\frac{A K^{\\beta} L^{\\alpha} \\alpha}{L}$"
   ]
  },
  {
   "cell_type": "markdown",
   "id": "a767aabd-5723-4845-9f1d-e3d99d2b8107",
   "metadata": {},
   "source": [
    "Calculate the **second derivative** with respect to **L**\n",
    " - use the first derivative that you saved\n",
    " - take the derivatie again with respect to variable of interes, L\n",
    " - save that equation "
   ]
  },
  {
   "cell_type": "code",
   "execution_count": null,
   "id": "faafde1c-3d06-4fcb-8cff-d10c5b4e0969",
   "metadata": {},
   "outputs": [],
   "source": [
    "second_derivative = sp.diff(first_derivative, L)"
   ]
  },
  {
   "cell_type": "code",
   "execution_count": null,
   "id": "1a47a189-7cfd-48b5-bdab-1c3374eff7b9",
   "metadata": {},
   "outputs": [],
   "source": [
    "sp.pprint(second_derivative)"
   ]
  },
  {
   "cell_type": "code",
   "execution_count": null,
   "id": "ab2b16bf-cffa-44b6-a5bc-9a040c743933",
   "metadata": {},
   "outputs": [],
   "source": [
    "second_derivative_latex = sp.latex(second_derivative)\n",
    "print(second_derivative_latex)\n"
   ]
  },
  {
   "cell_type": "markdown",
   "id": "d7589628-dcf8-47d3-8ec3-779dcd3e33bc",
   "metadata": {},
   "source": [
    "Pasting this into a Markdown cell and adding \"dollar signs\"\n",
    "\n",
    "$\\frac{A K^{\\beta} L^{\\alpha} \\alpha^{2}}{L^{2}} - \\frac{A K^{\\beta} L^{\\alpha} \\alpha}{L^{2}}$\n"
   ]
  },
  {
   "cell_type": "markdown",
   "id": "d3b54aa9-8f17-42c5-b509-4a9e01822320",
   "metadata": {},
   "source": [
    "First Derivative (LaTeX):\n",
    "$\\frac{A K^{\\beta} L^{\\alpha} \\alpha}{L}$\n",
    "\n",
    "Second Derivative (LaTeX):\n",
    "$\\frac{A K^{\\beta} L^{\\alpha} \\alpha^{2}}{L^{2}} - \\frac{A K^{\\beta} L^{\\alpha} \\alpha}{L^{2}}$\n"
   ]
  },
  {
   "cell_type": "markdown",
   "id": "1a35dc3e-f42a-45b7-b4b8-d6caf3d5b4b6",
   "metadata": {},
   "source": [
    "Lets simplify both of these and generat the Latex"
   ]
  },
  {
   "cell_type": "code",
   "execution_count": null,
   "id": "e37c721e-50f4-4419-829d-be76413d2473",
   "metadata": {},
   "outputs": [],
   "source": [
    "first_div_simp_latex = sp.latex(sp.simplify(first_derivative))\n",
    "print(first_div_simp_latex)"
   ]
  },
  {
   "cell_type": "code",
   "execution_count": null,
   "id": "1dddf227-4a25-41fc-950b-5e9faba886a5",
   "metadata": {
    "tags": []
   },
   "outputs": [],
   "source": [
    "second_div_simp_latex = sp.latex(sp.simplify(sp.diff(first_derivative, L)))\n",
    "print(second_div_simp_latex)"
   ]
  },
  {
   "cell_type": "markdown",
   "id": "46410c75-d8cc-4f5b-ae53-2b6a32ef53cb",
   "metadata": {},
   "source": [
    "$$A K^{\\beta} L^{\\alpha - 1} \\alpha$$\n",
    "$$A K^{\\beta} L^{\\alpha - 2} \\alpha \\left(\\alpha - 1\\right)$$\n",
    "\n"
   ]
  },
  {
   "cell_type": "markdown",
   "id": "c5d741cd-d4a3-4b76-a4b2-3c383efd75b8",
   "metadata": {},
   "source": [
    "## Now Let's consider the simpler case of a Utility function \n",
    "- that has a Cobb-Douglas type formulation \n",
    "- consists of consuming two goods $X1$ and $X2$\n",
    "\n",
    "$  U = \\cdot X1^{\\alpha} \\cdot X2^{1-\\alpha}$\n"
   ]
  },
  {
   "cell_type": "code",
   "execution_count": null,
   "id": "8cb996f8-c3d1-476c-afff-c95d5092f33e",
   "metadata": {},
   "outputs": [],
   "source": [
    "U, X1, X2, alpha = sp.symbols('U, X1, X2, alpha ')\n"
   ]
  },
  {
   "cell_type": "code",
   "execution_count": null,
   "id": "d9cfc4f3-552a-4f73-b9aa-7067bb7318bf",
   "metadata": {},
   "outputs": [],
   "source": [
    "U =  X1**alpha * X2**(1-alpha)"
   ]
  },
  {
   "cell_type": "code",
   "execution_count": null,
   "id": "1b765549-5f6b-40b1-b88f-a69295c48fa2",
   "metadata": {},
   "outputs": [],
   "source": [
    "first_deriv_x1 = sp.diff(U,X1)"
   ]
  },
  {
   "cell_type": "code",
   "execution_count": null,
   "id": "a7289988-f45b-4a82-b463-cc6d433cd291",
   "metadata": {},
   "outputs": [],
   "source": [
    "second_deriv_x1 = sp.diff(first_deriv_x1, X1)"
   ]
  },
  {
   "cell_type": "code",
   "execution_count": null,
   "id": "cd266c18-54c6-4793-a462-c004b67da41c",
   "metadata": {},
   "outputs": [],
   "source": [
    "sp.pprint(first_deriv_x1)"
   ]
  },
  {
   "cell_type": "code",
   "execution_count": null,
   "id": "3a9fad42-ef1e-4a12-b1d4-8d283d21a278",
   "metadata": {},
   "outputs": [],
   "source": [
    "sp.pprint(second_deriv_x1)"
   ]
  },
  {
   "cell_type": "code",
   "execution_count": null,
   "id": "1e334505-6688-4e2a-a17b-37e5a3cf8c0f",
   "metadata": {
    "tags": []
   },
   "outputs": [],
   "source": [
    "sp.simplify(first_deriv_x1) "
   ]
  },
  {
   "cell_type": "code",
   "execution_count": null,
   "id": "66f4e50f-da35-48eb-9fb6-c1fc0a6137eb",
   "metadata": {
    "tags": []
   },
   "outputs": [],
   "source": [
    "sp.simplify( second_deriv_x1)"
   ]
  },
  {
   "cell_type": "code",
   "execution_count": null,
   "id": "d3ff9a84-124f-4d3d-9a06-4a2a1f28c15f",
   "metadata": {},
   "outputs": [],
   "source": [
    "first_deriv_x1_latex = sp.latex(sp.simplify(first_deriv_x1))\n",
    "print(first_deriv_x1_latex)\n",
    "second_deriv_x1_latex = sp.latex(sp.simplify(second_deriv_x1))\n",
    "print(second_deriv_x1_latex)\n"
   ]
  },
  {
   "cell_type": "markdown",
   "id": "2cfea904-561a-4433-9653-828ca0a19ccc",
   "metadata": {},
   "source": [
    "First Derivative (LaTeX):\n",
    "$X_{1}^{\\alpha - 1} X_{2}^{1 - \\alpha} \\alpha$\n",
    "\n",
    "Second Derivative (LaTeX):\n",
    "$X_{1}^{\\alpha - 2} X_{2}^{1 - \\alpha} \\alpha \\left(\\alpha - 1\\right)\n",
    "$"
   ]
  },
  {
   "cell_type": "markdown",
   "id": "143f691b-2372-45ff-bcbb-fd46d1a5a409",
   "metadata": {},
   "source": [
    "Lets get Numeric!\n",
    "- Lets declare some variables as constants ( alpha, x2) \n",
    "- and pass in a range for X1"
   ]
  },
  {
   "cell_type": "code",
   "execution_count": null,
   "id": "ef4c3207-ab6b-4d73-8173-aa7e64869e8e",
   "metadata": {},
   "outputs": [],
   "source": [
    "alpha = 0.5  # You can change the value of alpha as needed\n",
    "X1_values = np.linspace(0.1, 2.0, 100)  # Range of X1 values\n",
    "X2 = 1.0  # Fixed value for X2"
   ]
  },
  {
   "cell_type": "code",
   "execution_count": null,
   "id": "ad4673d2-53a0-41ba-be8e-34e3bf13b2db",
   "metadata": {},
   "outputs": [],
   "source": [
    "X1_values"
   ]
  },
  {
   "cell_type": "code",
   "execution_count": null,
   "id": "58893ff1-6503-4bd0-b5de-cde9454dc453",
   "metadata": {},
   "outputs": [],
   "source": [
    "U_values = X1_values**alpha * X2**(1 - alpha)\n",
    "U_values"
   ]
  },
  {
   "cell_type": "code",
   "execution_count": null,
   "id": "b28356b5-eb17-415e-9f66-9a906925d702",
   "metadata": {},
   "outputs": [],
   "source": [
    "first_derivative_values = alpha * X1_values**(alpha - 1) * X2**(1 - alpha)\n",
    "first_derivative_values"
   ]
  },
  {
   "cell_type": "code",
   "execution_count": null,
   "id": "fb914e75-73ee-47a4-90b9-68f8431a78f3",
   "metadata": {},
   "outputs": [],
   "source": [
    "second_derivative_values = alpha * (alpha - 1) * X1_values**(alpha - 2) * X2**(1 - alpha)\n",
    "second_derivative_values"
   ]
  },
  {
   "cell_type": "code",
   "execution_count": null,
   "id": "925462c2-20b8-44f8-8b59-11b750f94ad8",
   "metadata": {},
   "outputs": [],
   "source": [
    "plt.figure(figsize=(8, 6))\n",
    "plt.plot(X1_values, U_values, label='U')\n",
    "plt.plot(X1_values, first_derivative_values, label='First Derivative')\n",
    "plt.plot(X1_values, second_derivative_values, label='Second Derivative')\n",
    "plt.xlabel('X1')\n",
    "plt.ylabel('First Derivative')\n",
    "plt.title('First Derivative and Second Derivative of U')\n",
    "plt.legend()\n",
    "plt.grid(True)\n",
    "plt.show()\n"
   ]
  },
  {
   "cell_type": "code",
   "execution_count": null,
   "id": "5f41f092-adbd-4b4b-b570-eef54fb1362f",
   "metadata": {},
   "outputs": [],
   "source": [
    "\n",
    "\n",
    "# Create a figure with two subplots (one for U and one for the first derivative)\n",
    "fig, (ax1, ax2) = plt.subplots(1, 2, figsize=(12, 6))\n",
    "\n",
    "# Plot the original function U on the left subplot\n",
    "ax1.plot(X1_values, U_values, label='U')\n",
    "ax1.set_xlabel('X1')\n",
    "ax1.set_ylabel('U')\n",
    "ax1.set_title('Utility Function ')\n",
    "\n",
    "# Plot the first derivative on the right subplot\n",
    "ax2.plot(X1_values, first_derivative_values, label='First Derivative', color='orange')\n",
    "ax2.set_xlabel('X1')\n",
    "ax2.set_ylabel('First Derivative')\n",
    "ax2.set_title('First Derivative')\n",
    "\n",
    "# Show the plot\n",
    "plt.show()\n"
   ]
  },
  {
   "cell_type": "code",
   "execution_count": null,
   "id": "3b0e7dbd-cc78-4ad5-b562-e3e64d11e05a",
   "metadata": {},
   "outputs": [],
   "source": []
  }
 ],
 "metadata": {
  "kernelspec": {
   "display_name": "Python 3 (ipykernel)",
   "language": "python",
   "name": "python3"
  },
  "language_info": {
   "codemirror_mode": {
    "name": "ipython",
    "version": 3
   },
   "file_extension": ".py",
   "mimetype": "text/x-python",
   "name": "python",
   "nbconvert_exporter": "python",
   "pygments_lexer": "ipython3",
   "version": "3.8.15"
  }
 },
 "nbformat": 4,
 "nbformat_minor": 5
}
