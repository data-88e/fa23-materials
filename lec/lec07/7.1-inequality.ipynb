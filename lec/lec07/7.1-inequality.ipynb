{
 "cells": [
  {
   "cell_type": "markdown",
   "metadata": {},
   "source": [
    "<table style=\"width: 100%;\" id=\"nb-header\">\n",
    "    <tr style=\"background-color: transparent;\"><td>\n",
    "        <img src=\"https://data-88e.github.io/assets/images/blue_text.png\" width=\"250px\" style=\"margin-left: 0;\" />\n",
    "    </td><td>\n",
    "        <p style=\"text-align: right; font-size: 10pt;\"><strong>Economic Models</strong>, Fall 23<br>\n",
    "            Dr. Eric Van Dusen <br>\n",
    "        Akhil Venkatesh <br>\n",
    "</table>"
   ]
  },
  {
   "cell_type": "markdown",
   "metadata": {},
   "source": [
    "From the Textbook Chapter\n",
    "https://data-88e.github.io/textbook/content/06-inequality/inequality.html"
   ]
  },
  {
   "cell_type": "code",
   "execution_count": null,
   "metadata": {
    "tags": [
     "remove_cell"
    ]
   },
   "outputs": [],
   "source": [
    "import pandas as pd\n",
    "import numpy as np\n",
    "import matplotlib.pyplot as plt\n",
    "from datascience import *\n",
    "%matplotlib inline\n",
    "#plt.style.use('seaborn-muted')"
   ]
  },
  {
   "cell_type": "markdown",
   "metadata": {},
   "source": [
    "# Lec 7.1  Measurements of Inequality"
   ]
  },
  {
   "cell_type": "markdown",
   "metadata": {},
   "source": [
    "## The Lorenz Curve\n",
    "The Lorenz Curve visually presents income inequality by plotting household income percentile on the $x$-axis, and the cumulative income share that the bottom $x$ percentile own on the $y$-axis. The households are sorted by income, so that the first household at the 0th percentile has the least amount of income, while the household at the 100th percentile has the greatest income.\n",
    "\n",
    "For any point $(x,y)$ on the Lorenz curve, “the bottom x percent own y% of the income”. For example, if the $x$-axis reads 0.30 and $y$-axis reads 0.10, then it means that the bottom 30% of the population received 10% of the total population's income. This yields 2 implications for the Lorenz Curve:\n",
    "- The points $(0,0)$ and $(1,1)$ are always on the curve. $(0,0)$ represents the 0% of the population owning 0% of the income and $(1,1)$ represents 100% of the population owning 100% of the income.\n",
    "- The slope is always increasing. This is because households are sorted by income as percentiles: for a slight increase in $x$, households become richer and hence provide a larger share of total income.\n"
   ]
  },
  {
   "cell_type": "markdown",
   "metadata": {},
   "source": [
    "### Line of Perfect Equality\n",
    "In a world of perfect equality, everyone would have the exact same income. In this case, the Lorenz curve would just be a 45-degree straight line that runs through $(0,0)$ and $(1,1)$, i.e. $y=x$. Mathematically, this is because the derivative is constant: for a slight increase in $x$, the total share of income increases at a constant rate. Another way to think about this is that the bottom 10% of the population will own 10% of the total income, the bottom 50% of the population will own 50% of the total income, and so on. This line is known as the *line of perfect equality*, and we typically display this line when plotting our Lorenz curves as a reference."
   ]
  },
  {
   "cell_type": "markdown",
   "metadata": {},
   "source": [
    "### A Toy Example\n",
    "Let's suppose country 1 has the following income distribution: \n",
    "- The bottom 10% owns a cumulative 2% of total income \n",
    "- The bottom 20% owns 5% of total income\n",
    "- The bottom 30% owns 9% of total income\n",
    "- The bottom 40% owns 15% of total income \n",
    "- The bottom 50% owns 23% of total income\n",
    "- The bottom 60% owns 33% of total income\n",
    "- The bottom 70% with 45% of total income\n",
    "- The bottom 80% with 59% of total income \n",
    "- The bottom 90% with 75% of total income\n",
    "- The bottom 100% with 100% of total income\n",
    "\n",
    "We will create an array of income shares and call it `Country1`. "
   ]
  },
  {
   "cell_type": "code",
   "execution_count": null,
   "metadata": {},
   "outputs": [],
   "source": [
    "Country1 = make_array(0, 0.02, 0.05, 0.09, 0.15, 0.23, 0.33, 0.45, 0.59, 0.75, 1.0)"
   ]
  },
  {
   "cell_type": "markdown",
   "metadata": {},
   "source": [
    "To better see this information, we will create a table containing population percentage and cumulative income share. "
   ]
  },
  {
   "cell_type": "code",
   "execution_count": null,
   "metadata": {},
   "outputs": [],
   "source": [
    "income_distribution = Table().with_columns(\n",
    "    \"Population Percentage (%)\", np.arange(11) * 10, \n",
    "    \"Cumulative Income Share (%)\", Country1 * 100, \n",
    "    \"Perfect Equality Income Share (%)\", np.arange(11) * 10\n",
    ")\n",
    "income_distribution"
   ]
  },
  {
   "cell_type": "markdown",
   "metadata": {},
   "source": [
    "How will the Lorenz Curve for this income distribution look? "
   ]
  },
  {
   "cell_type": "code",
   "execution_count": null,
   "metadata": {
    "tags": [
     "remove_input"
    ]
   },
   "outputs": [],
   "source": [
    "income_distribution.scatter(0, 1, width=11, height=7)\n",
    "plt.plot([0,100], [0,100], color='k');"
   ]
  },
  {
   "cell_type": "markdown",
   "metadata": {},
   "source": [
    "### Comparing Lorenz Curves\n",
    "Now let's compare 2 countries' Lorenz curves. Suppose country 2 has the following income distribution:\n",
    "- The bottom 10% owns a cumulative 3% of total income \n",
    "- The bottom 20% owns 7% of total income\n",
    "- The bottom 30% owns 13% of total income\n",
    "- The bottom 40% owns 19% of total income \n",
    "- The bottom 50% owns 27% of total income\n",
    "- The bottom 60% owns 37% of total income\n",
    "- The bottom 70% with 50% of total income\n",
    "- The bottom 80% with 65% of total income \n",
    "- The bottom 90% with 81% of total income\n",
    "- The bottom 100% with 100% of total income"
   ]
  },
  {
   "cell_type": "code",
   "execution_count": null,
   "metadata": {},
   "outputs": [],
   "source": [
    "Country2 = make_array(0, 0.03, 0.07, 0.13, 0.19, 0.27, 0.37, 0.5, 0.65, 0.81, 1.0)\n",
    "income_distribution2 = Table().with_columns(\n",
    "    \"Population Percentage (%)\", np.arange(11) * 10, \n",
    "    \"Cumulative Income Share (%)\", Country2 * 100, \n",
    "    \"Perfect Equality Income Share (%)\", np.arange(11) * 10\n",
    ")\n",
    "income_distribution2"
   ]
  },
  {
   "cell_type": "markdown",
   "metadata": {},
   "source": [
    "Comparing the 2 countries' income distributions side by side:"
   ]
  },
  {
   "cell_type": "code",
   "execution_count": null,
   "metadata": {},
   "outputs": [],
   "source": [
    "income_distribution.join(\n",
    "    [\"Population Percentage (%)\", \"Perfect Equality Income Share (%)\"], \n",
    "    income_distribution2, [\"Population Percentage (%)\", \"Perfect Equality Income Share (%)\"]\n",
    ").relabel(\n",
    "    \"Cumulative Income Share (%)\", \"Country 1 Cumulative Income Share (%)\"\n",
    ").relabel(\n",
    "    \"Cumulative Income Share (%)_2\", \"Country 2 Cumulative Income Share (%)\"\n",
    ")"
   ]
  },
  {
   "cell_type": "markdown",
   "metadata": {},
   "source": [
    "Plotting both countries' Lorenz curves, can you tell which country has a higher level of income inequality?"
   ]
  },
  {
   "cell_type": "code",
   "execution_count": null,
   "metadata": {
    "tags": [
     "remove_input"
    ]
   },
   "outputs": [],
   "source": [
    "plt.figure(figsize=[7,7])\n",
    "plt.plot(income_distribution.column(0), income_distribution.column(1), \"-o\", c = 'b')\n",
    "plt.plot(income_distribution.column(0), income_distribution2.column(1), \"-o\", c = 'r')\n",
    "plt.legend([\"Country 1\", \"Country 2\"])\n",
    "plt.plot([0,100], [0,100], color='k');"
   ]
  },
  {
   "cell_type": "markdown",
   "metadata": {},
   "source": [
    "In this case, we can see that country 2's Lorenz curve is closer to the line of equality than that of country 1, which intuitively would suggest that country 2 is more equal. If we were to look at the numbers, we see that the bottom percentiles own a higher % of total national income in country 2 than in country 1, while top percentiles own less in country 2 than in country 1. This would suggest that country 2 is more equal in income than country 1, so that country 1 has a higher level of income inequality."
   ]
  },
  {
   "cell_type": "markdown",
   "metadata": {},
   "source": [
    "But now let's consider a different case; suppose country 3 has the following distribution: "
   ]
  },
  {
   "cell_type": "code",
   "execution_count": null,
   "metadata": {},
   "outputs": [],
   "source": [
    "Country3 = make_array(0, 0.03, 0.07, 0.12, 0.18, 0.25, 0.33, 0.42, 0.54, 0.73, 1.0)\n",
    "income_distribution3 = Table().with_columns(\n",
    "    \"Population Percentage (%)\", np.arange(11) * 10, \n",
    "    \"Cumulative Income Share (%)\", Country3 * 100, \n",
    "    \"Perfect Equality Income Share (%)\", np.arange(11) * 10\n",
    ")\n",
    "income_distribution.join(\n",
    "    [\"Population Percentage (%)\", \"Perfect Equality Income Share (%)\"], \n",
    "    income_distribution3, [\"Population Percentage (%)\", \"Perfect Equality Income Share (%)\"]\n",
    ").relabel(\n",
    "    \"Cumulative Income Share (%)\", \"Country 1 Cumulative Income Share (%)\"\n",
    ").relabel(\n",
    "    \"Cumulative Income Share (%)_2\", \"Country 3 Cumulative Income Share (%)\"\n",
    ")"
   ]
  },
  {
   "cell_type": "code",
   "execution_count": null,
   "metadata": {
    "tags": [
     "remove_input"
    ]
   },
   "outputs": [],
   "source": [
    "plt.figure(figsize=[7,7])\n",
    "plt.plot(income_distribution.column(0), income_distribution.column(1), \"-o\", c = 'b')\n",
    "plt.plot(income_distribution.column(0), income_distribution3.column(1), \"-o\", c = 'r')\n",
    "plt.legend([\"Country 1\", \"Country 3\"])\n",
    "plt.plot([0,100], [0,100], color='k');"
   ]
  },
  {
   "cell_type": "markdown",
   "metadata": {},
   "source": [
    "Now, ambiguity arises; while bottom income percentiles earn a larger share of national income in country 3, top income percentiles also have a larger share. We can visualize this phenomenon by the 'crossing' of Lorenz curves on the plot. As a result, we do cannot easily tell which country has a higher level of income inequality.\n",
    "\n",
    "As you may see, the Lorenz curve is not able to produce a 'quantitative' measure of income inequality, making the scenario above hard for us to compare the 2 countries. For this, we turn to the Gini coefficient."
   ]
  },
  {
   "cell_type": "markdown",
   "metadata": {},
   "source": [
    "## The Gini Coefficient"
   ]
  },
  {
   "cell_type": "markdown",
   "metadata": {},
   "source": [
    "We can use the Gini coefficeint to quantify the level of income inequality."
   ]
  },
  {
   "cell_type": "markdown",
   "metadata": {
    "tags": [
     "remove_cell"
    ]
   },
   "source": [
    "!<img src=\"Gini.png\"  />"
   ]
  },
  {
   "cell_type": "markdown",
   "metadata": {},
   "source": [
    "\n",
    "\n",
    "The **Gini coefficient** is the ratio of the area between the line of equality and the Lorenz curve to the total area under the line of equality. Referring to $A$ and $B$ from {numref}`gini-coefficient`:\n",
    "\n",
    "$$\\text{Gini} = \\frac{\\text{Area between line of equality and Lorenz curve}}{\\text{Area under line of equality}} = \\frac{A}{A+B}$$\n",
    "\n",
    "If we express the Lorenz curve as $L(x)$, we can use calculus to derive an equation for the Gini coefficient:\n",
    "\n",
    "$$\\text{Gini} = \\frac{\\frac{1}{2} - \\int_0^1 L(x)\\text{d}x}{\\frac{1}{2}} = 1 - 2\\int_0^1 L(x)\\text{d}x$$\n",
    "```"
   ]
  },
  {
   "cell_type": "markdown",
   "metadata": {},
   "source": [
    "Intuitively, the closer the Lorenz curve is to the line of equality, the lower income inequality exists. Hence, the smaller the area of A, the lower the inequality. **This means that the smaller the Gini coefficient, the lower the income inequality.** Also note that the Gini coefficient will always be between 0 and 1. Mathematically, since $A$ and $B$ are both positive, $0<\\frac{A}{A+B}<1$."
   ]
  },
  {
   "cell_type": "code",
   "execution_count": null,
   "metadata": {},
   "outputs": [],
   "source": [
    "# This function estimates the Gini coefficient. You don't have to understand how this code works below.\n",
    "def gini(distribution):\n",
    "    sorted_distribution = sorted(distribution)\n",
    "    height = 0\n",
    "    area = 0\n",
    "    for i in sorted_distribution:\n",
    "        height += i\n",
    "        area += height - i / 2\n",
    "    fair_area = height * len(distribution) / 2.\n",
    "    return (fair_area - area) / fair_area"
   ]
  },
  {
   "cell_type": "markdown",
   "metadata": {},
   "source": [
    "When we use our population as the parameter to the `gini` function, we get: "
   ]
  },
  {
   "cell_type": "code",
   "execution_count": null,
   "metadata": {},
   "outputs": [],
   "source": [
    "gini_coefficient_country1 = gini(Country1)\n",
    "gini_coefficient_country1"
   ]
  },
  {
   "cell_type": "code",
   "execution_count": null,
   "metadata": {},
   "outputs": [],
   "source": [
    "gini_coefficient_country2 = gini(Country2)\n",
    "gini_coefficient_country2"
   ]
  },
  {
   "cell_type": "code",
   "execution_count": null,
   "metadata": {},
   "outputs": [],
   "source": [
    "gini_coefficient_country3 = gini(Country3)\n",
    "gini_coefficient_country3"
   ]
  },
  {
   "cell_type": "markdown",
   "metadata": {},
   "source": [
    "These results confirm our intuition from the analysis we did previously via Lorenz curves. Previously, we concluded that country 1 had a higher level of income inequality than country 2, and this is supported by country 1's higher gini coefficient. On the other hand, we had trouble comparing levels of inequality between country 1 and country 3. Here, the gini coefficient would indicate that country 1 has a higher level of income inequality than country 3."
   ]
  },
  {
   "cell_type": "markdown",
   "metadata": {
    "tags": []
   },
   "source": [
    "# Income Inequality Historically\n",
    "\n",
    "<!-- Written by Amal Bhatnagar -->\n",
    "\n",
    "In the last chart on the previous page, you may have noticed that income inequality was rising in the United States in the last few decades. We will examine this in more detail, and also observe global trends in inequality."
   ]
  },
  {
   "cell_type": "markdown",
   "metadata": {},
   "source": [
    "## The United States\n",
    "\n",
    "Let's look at historical trends of income inequality in the US over the last 100 years. The data has been collected from [The World Inequality Database](https://wid.world/), which is co-directed by Berkeley Economics professors Emanuel Saez and Gabriel Zucman. Specifically, we will observe income distributions for the bottom 50 percent, top 10 percent, and top 1 percent."
   ]
  },
  {
   "cell_type": "code",
   "execution_count": null,
   "metadata": {},
   "outputs": [],
   "source": [
    "us_hist = Table.read_table(\"US_inequality.csv\")\n",
    "us_hist.show(5)"
   ]
  },
  {
   "cell_type": "code",
   "execution_count": null,
   "metadata": {},
   "outputs": [],
   "source": [
    "us_hist.take(np.arange(100,105))"
   ]
  },
  {
   "cell_type": "markdown",
   "metadata": {},
   "source": [
    "Let's begin with some data cleaning: it seems like our 3 brackets are 'vertically stacked' on top of each other. Instead, we would like a table with 5 columns: `Year`, `bottom 50% income share`, `top 10% income share`, and `top 1% income share`."
   ]
  },
  {
   "cell_type": "code",
   "execution_count": null,
   "metadata": {},
   "outputs": [],
   "source": [
    "bottom_50_us = us_hist.where(\"Percentile\", \"p0p50\").drop(\"Percentile\").relabeled(\"Income Share\", \"Bottom 50% Share\")\n",
    "top_10_us = us_hist.where(\"Percentile\", \"p90p100\").drop(\"Percentile\").relabeled(\"Income Share\", \"Top 10% Share\")\n",
    "top_1_us = us_hist.where(\"Percentile\", \"p99p100\").drop(\"Percentile\").relabeled(\"Income Share\", \"Top 1% Share\")\n",
    "us_hist_joined = bottom_50_us.join(\"Year\", top_10_us).join(\"Year\", top_1_us)\n",
    "us_hist_joined"
   ]
  },
  {
   "cell_type": "markdown",
   "metadata": {},
   "source": [
    "Oh no, there are some `nan` values! NaN (not a number) values are very common in real world datasets: often, we may not have some observations simply because no data was collected, or perhaps the data collected was faulty. Sometimes, we can try to impute or replace NaN values in order to avoid having gaps in our data, but for now let's ignore NaNs and when plotting to see what's going on:"
   ]
  },
  {
   "cell_type": "code",
   "execution_count": null,
   "metadata": {
    "tags": [
     "remove_input"
    ]
   },
   "outputs": [],
   "source": [
    "# mpl.rcParams['figure.dpi'] = 120\n",
    "us_hist_joined.plot(\"Year\", width=11, height=7)\n",
    "plt.title(\"Income Share over Time\", fontsize = 16)\n",
    "plt.ylabel(\"Proportion\", fontsize = 14)\n",
    "plt.xlabel(\"Year\", fontsize = 14)\n",
    "plt.show()"
   ]
  },
  {
   "cell_type": "markdown",
   "metadata": {},
   "source": [
    "# Income Inequality for the Rest of the World"
   ]
  },
  {
   "cell_type": "markdown",
   "metadata": {},
   "source": [
    "Now let's examine the trends of income inequality in other parts of the world."
   ]
  },
  {
   "cell_type": "code",
   "execution_count": null,
   "metadata": {},
   "outputs": [],
   "source": [
    "world_hist = Table.read_table(\"World_Inequality.csv\")\n",
    "bottom_50_world = world_hist.where(\"Percentile\", \"p0p50\").drop(\"Percentile\")\n",
    "top_10_world = world_hist.where(\"Percentile\", \"p90p100\").drop(\"Percentile\")\n",
    "top_1_world = world_hist.where(\"Percentile\", \"p99p100\").drop(\"Percentile\")\n",
    "top_10_world"
   ]
  },
  {
   "cell_type": "code",
   "execution_count": null,
   "metadata": {
    "tags": [
     "remove_input"
    ]
   },
   "outputs": [],
   "source": [
    "top_10_world.plot(\"Year\", width=11, height=7)\n",
    "plt.ylabel(\"Gini Coefficient\", fontsize=14)\n",
    "plt.xlabel(\"Year\", fontsize=14)\n",
    "plt.title(\"Income Inequality over Time\", fontsize=18);"
   ]
  },
  {
   "cell_type": "markdown",
   "metadata": {},
   "source": [
    "Just like the US, it seems global inequality has been rising around the world, especially in China, India, Russia, and across Europe. However, in absolute terms, the level of income inequality in Europe is much lower than that in the United States. \n",
    "\n",
    "Also look at Russia: income inequality spiked up around 1991. This was likely caused by the fall of the USSR: the failing Soviet state left the ownership of state assets uncontested, which allowed former USSR officials to acquire state property through informal deals. This led to the rise of many Russian oligarchs - those who rapidly accumulated wealth during the era of Russian privatization directly follwing the dissolution of the Soviet Union."
   ]
  },
  {
   "cell_type": "code",
   "execution_count": null,
   "metadata": {},
   "outputs": [],
   "source": [
    "top_10_world.select(\"Year\", \"USA\", \"Europe\").plot(\"Year\", width=11, height=7)\n",
    "plt.ylabel(\"Gini Coefficient\", fontsize=14)\n",
    "plt.xlabel(\"Year\", fontsize=14)\n",
    "plt.title(\"Income Inequality over Time\", fontsize=18);"
   ]
  },
  {
   "cell_type": "code",
   "execution_count": null,
   "metadata": {},
   "outputs": [],
   "source": []
  },
  {
   "cell_type": "code",
   "execution_count": null,
   "metadata": {},
   "outputs": [],
   "source": []
  }
 ],
 "metadata": {
  "kernelspec": {
   "display_name": "Python 3 (ipykernel)",
   "language": "python",
   "name": "python3"
  },
  "language_info": {
   "codemirror_mode": {
    "name": "ipython",
    "version": 3
   },
   "file_extension": ".py",
   "mimetype": "text/x-python",
   "name": "python",
   "nbconvert_exporter": "python",
   "pygments_lexer": "ipython3",
   "version": "3.8.5"
  },
  "varInspector": {
   "cols": {
    "lenName": 16,
    "lenType": 16,
    "lenVar": 40
   },
   "kernels_config": {
    "python": {
     "delete_cmd_postfix": "",
     "delete_cmd_prefix": "del ",
     "library": "var_list.py",
     "varRefreshCmd": "print(var_dic_list())"
    },
    "r": {
     "delete_cmd_postfix": ") ",
     "delete_cmd_prefix": "rm(",
     "library": "var_list.r",
     "varRefreshCmd": "cat(var_dic_list()) "
    }
   },
   "types_to_exclude": [
    "module",
    "function",
    "builtin_function_or_method",
    "instance",
    "_Feature"
   ],
   "window_display": false
  }
 },
 "nbformat": 4,
 "nbformat_minor": 4
}
