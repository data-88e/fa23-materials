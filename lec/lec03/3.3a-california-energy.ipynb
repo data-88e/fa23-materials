{
 "cells": [
  {
   "cell_type": "markdown",
   "metadata": {},
   "source": [
    "<table style=\"width: 100%;\" id=\"nb-header\">\n",
    "    <tr style=\"background-color: transparent;\"><td>\n",
    "        <img src=\"https://data-88e.github.io/assets/images/blue_text.png\" width=\"250px\" style=\"margin-left: 0;\" />\n",
    "    </td><td>\n",
    "        <p style=\"text-align: right; font-size: 10pt;\"><strong>Economic Models</strong>, Fall 23<br>\n",
    "            Dr. Eric Van Dusen <br>\n",
    "        Shashank Dalmia <br> \n",
    "            Ergun Acikoz <br>\n",
    "            Akhil Venkatesh \n",
    "        </p></td></tr>\n",
    "</table>"
   ]
  },
  {
   "cell_type": "markdown",
   "metadata": {},
   "source": [
    "### Let's look at a real life example! This comes from **EEP 147 Regulation of Energy and the Environment**. \n",
    "\n",
    "The class plays a game called the Energy Strategy Game.  The dataset comes from that game."
   ]
  },
  {
   "cell_type": "code",
   "execution_count": null,
   "metadata": {},
   "outputs": [],
   "source": [
    "from datascience import *\n",
    "from ipywidgets import interact, interactive, fixed, interact_manual\n",
    "import ipywidgets as widgets\n",
    "%matplotlib inline\n",
    "import matplotlib.pyplot as plt\n",
    "from utils import *"
   ]
  },
  {
   "cell_type": "code",
   "execution_count": null,
   "metadata": {},
   "outputs": [],
   "source": [
    "ESG_table = Table.read_table('ESGPorfolios_forcsv.csv').select(\n",
    "    \"Group\", \"Group_num\", \"UNIT NAME\", \"Capacity_MW\", \"Total_Var_Cost_USDperMWH\").sort(\n",
    "    \"Total_Var_Cost_USDperMWH\", descending = False).relabel(4, \"Average Variable Cost\")"
   ]
  },
  {
   "cell_type": "code",
   "execution_count": null,
   "metadata": {},
   "outputs": [],
   "source": [
    "ESG_table"
   ]
  },
  {
   "cell_type": "markdown",
   "metadata": {},
   "source": [
    "This table shows some electricity generation plants in California and their costs. The Capacity is the output the firm is capable of producing. The Average Variable Cost shows the minimum variable cost per MW produced. At a price below AVC, the firm supplies nothing. At a price above the AVC, the firm can supply up to its capacity. Being a profit-maximising firm, it will try to supply its full capacity."
   ]
  },
  {
   "cell_type": "markdown",
   "metadata": {},
   "source": [
    "First, let's look at just the Big Coal producers, a portfolio of electricity producing plants, and understand the data."
   ]
  },
  {
   "cell_type": "code",
   "execution_count": null,
   "metadata": {},
   "outputs": [],
   "source": [
    "selection = 'Big Coal'\n",
    "Group = ESG_table.where(\"Group\", selection)"
   ]
  },
  {
   "cell_type": "code",
   "execution_count": null,
   "metadata": {},
   "outputs": [],
   "source": [
    "Group"
   ]
  },
  {
   "cell_type": "code",
   "execution_count": null,
   "metadata": {},
   "outputs": [],
   "source": [
    "# Make the plot\n",
    "plt.figure(figsize=(9,6))\n",
    "plt.bar(new_x_group, height_group, width=width_group, edgecolor = \"black\")\n",
    "# Add title and axis names\n",
    "plt.title(selection)\n",
    "plt.xlabel('Capacity_MW')\n",
    "plt.ylabel('Variable Cost/Price')\n",
    "\n",
    "plt.show()"
   ]
  },
  {
   "cell_type": "markdown",
   "metadata": {},
   "source": [
    "This figure is the Big Coal Supply curve. It shows the price of electricity, and the quantity supplied at those prices (which depends on Variable Cost). For example, at any Variable Cost at or above 36.5, the producer FOUR CORNERS\t(the one with the lowest production costs) will supply, and so on.\n",
    "\n",
    "Let's interact with it by changing the market price."
   ]
  },
  {
   "cell_type": "code",
   "execution_count": null,
   "metadata": {},
   "outputs": [],
   "source": [
    "interact(group_plot, price=widgets.IntSlider(min=20,max=80,step=1,value=37));"
   ]
  },
  {
   "cell_type": "markdown",
   "metadata": {},
   "source": [
    "We are going to repeat the same process, this time for all the energy sources. They have been colored according to production group."
   ]
  },
  {
   "cell_type": "code",
   "execution_count": null,
   "metadata": {},
   "outputs": [],
   "source": [
    "interact(ESG_plot, price=widgets.IntSlider(min=0,max=90,step=1,value=37));"
   ]
  },
  {
   "cell_type": "markdown",
   "metadata": {},
   "source": [
    "### Energy manipulation for profit (In class demo)"
   ]
  },
  {
   "cell_type": "code",
   "execution_count": null,
   "metadata": {},
   "outputs": [],
   "source": [
    "def modified_profit(price, tbl):\n",
    "    tbl = tbl.where(\"Average Variable Cost\", are.below_or_equal_to(price))\n",
    "    profit_per_unit = price - tbl.column(\"Average Variable Cost\") \n",
    "    profit_per_plant = profit_per_unit * tbl.column(\"Capacity_MW\")\n",
    "    tbl = tbl.with_columns(\"profit_per_unit\", profit_per_unit, \n",
    "                          \"profit_per_plant\", profit_per_plant)\n",
    "    print(\"Price\", price)\n",
    "    print(\"Total Profit\", sum(profit_per_plant))\n",
    "    return tbl"
   ]
  },
  {
   "cell_type": "code",
   "execution_count": null,
   "metadata": {},
   "outputs": [],
   "source": [
    "Group"
   ]
  },
  {
   "cell_type": "code",
   "execution_count": null,
   "metadata": {},
   "outputs": [],
   "source": [
    "modified_profit(45, Group)"
   ]
  },
  {
   "cell_type": "code",
   "execution_count": null,
   "metadata": {},
   "outputs": [],
   "source": [
    "Group_wo_hun = Group.take(make_array(0,2,3, 4,5))\n",
    "Group_wo_hun"
   ]
  },
  {
   "cell_type": "code",
   "execution_count": null,
   "metadata": {},
   "outputs": [],
   "source": [
    "interact(ESG_plot_wo_hun, price=widgets.IntSlider(min=0,max=90,step=1,value=37));"
   ]
  },
  {
   "cell_type": "code",
   "execution_count": null,
   "metadata": {},
   "outputs": [],
   "source": [
    "modified_profit(50, Group_wo_hun)"
   ]
  },
  {
   "cell_type": "markdown",
   "metadata": {},
   "source": [
    " "
   ]
  },
  {
   "cell_type": "code",
   "execution_count": null,
   "metadata": {},
   "outputs": [],
   "source": [
    "another_firm = Table.read_table('another_firm.csv')\n",
    "another_firm.show()"
   ]
  },
  {
   "cell_type": "code",
   "execution_count": null,
   "metadata": {},
   "outputs": [],
   "source": [
    "total_cost_v2 = another_firm.column(\"Total Fixed Cost\") + another_firm.column(\"Total Variable Cost\")\n",
    "individual_firm_costs_v2 = another_firm.with_column(\"Total Cost\", total_cost_v2)\n",
    "average_fixed_cost_v2 = individual_firm_costs_v2.column(\"Total Fixed Cost\") / individual_firm_costs_v2.column(\"Output\")\n",
    "average_fixed_cost_v2[0] = 0\n",
    "individual_firm_costs_v2 = individual_firm_costs_v2.with_column(\"Average Fixed Cost\", average_fixed_cost_v2)\n",
    "average_variable_cost_v2 = individual_firm_costs_v2.column(\"Total Variable Cost\")/individual_firm_costs_v2.column(\"Output\")\n",
    "average_variable_cost_v2[0] = 0\n",
    "individual_firm_costs_v2 = individual_firm_costs_v2.with_column(\"Average Variable Cost\", average_variable_cost_v2)\n",
    "average_total_cost_v2 = individual_firm_costs_v2.column(\"Total Cost\")/individual_firm_costs_v2.column(\"Output\")\n",
    "average_total_cost_v2[0] = 0\n",
    "individual_firm_costs_v2 = individual_firm_costs_v2.with_column(\"Average Total Cost\", average_total_cost_v2)\n",
    "marginal_cost_v2 = np.diff(total_cost_v2)\n",
    "marginal_cost_v2 = np.append(make_array(0), marginal_cost_v2)\n",
    "individual_firm_costs_v2 = individual_firm_costs_v2.with_column(\"Marginal Cost\", marginal_cost_v2)\n"
   ]
  },
  {
   "cell_type": "code",
   "execution_count": null,
   "metadata": {},
   "outputs": [],
   "source": [
    "individual_firm_costs_v2"
   ]
  },
  {
   "cell_type": "code",
   "execution_count": null,
   "metadata": {},
   "outputs": [],
   "source": [
    "plt.plot(individual_firm_costs_v2.column(\"Output\"), individual_firm_costs_v2.column(\"Total Fixed Cost\"), marker='o')\n",
    "plt.plot(individual_firm_costs_v2.column(\"Output\"), individual_firm_costs_v2.column(\"Total Variable Cost\"), marker='o')\n",
    "plt.plot(individual_firm_costs_v2.column(\"Output\"), individual_firm_costs_v2.column(\"Total Cost\"), marker='o')\n",
    "plt.xlabel('Quantity')\n",
    "plt.ylabel('Cost')\n",
    "plt.title('TFC, TVC and TC')\n",
    "plt.legend(make_array(\"Total Fixed Cost\",\"Total Variable Cost\",\"Total Cost\"))\n",
    "\n",
    "plt.show()"
   ]
  },
  {
   "cell_type": "code",
   "execution_count": null,
   "metadata": {},
   "outputs": [],
   "source": [
    "plt.plot(individual_firm_costs_v2.column(\"Output\")[1:], individual_firm_costs_v2.column(\"Average Fixed Cost\")[1:], marker='o')\n",
    "plt.plot(individual_firm_costs_v2.column(\"Output\")[1:], individual_firm_costs_v2.column(\"Average Variable Cost\")[1:], marker='o')\n",
    "plt.plot(individual_firm_costs_v2.column(\"Output\")[1:], individual_firm_costs_v2.column(\"Average Total Cost\")[1:], marker='o')\n",
    "plt.xlabel('Quantity')\n",
    "plt.ylabel('Cost')\n",
    "plt.title('AFC, AVC and ATC')\n",
    "plt.legend(make_array(\"Average Fixed Cost\",\"Average Variable Cost\",\"Average Total Cost\"))\n",
    "\n",
    "plt.show()"
   ]
  },
  {
   "cell_type": "code",
   "execution_count": null,
   "metadata": {},
   "outputs": [],
   "source": [
    "# You do not need to understand what the code below is doing. \n",
    "output_v2 = individual_firm_costs_v2.column(\"Output\")[1:]\n",
    "mc_v2 = individual_firm_costs_v2.column(\"Marginal Cost\")[1:]\n",
    "avc_v2 = individual_firm_costs_v2.column(\"Average Variable Cost\")[1:]\n",
    "atc_v2 = individual_firm_costs_v2.column(\"Average Total Cost\")[1:]\n",
    "\n",
    "sp_mc_v2 = csaps(output_v2, mc_v2, smooth=0.85)\n",
    "sp_avc_v2 = csaps(output_v2, avc_v2, smooth=0.85)\n",
    "sp_atc_v2 = csaps(output_v2, atc_v2, smooth=0.85)\n",
    "\n",
    "output_s_v2 = np.linspace(output_v2.min(), output_v2.max(), 150)\n",
    "mc_s_v2 = sp_mc_v2(output_s_v2)\n",
    "avc_s_v2 = sp_avc_v2(output_s_v2)\n",
    "atc_s_v2 = sp_atc_v2(output_s_v2)\n",
    "\n",
    "plt.plot(output_v2, mc_v2, marker = 'o', color = 'tab:blue')\n",
    "plt.plot(output_s_v2, mc_s_v2, alpha=0.7, lw = 2, label='_nolegend_', color = 'tab:blue')\n",
    "plt.plot(output_v2, avc_v2, marker = 'o', color = 'tab:green')\n",
    "plt.plot(output_s_v2, avc_s_v2, alpha=0.7, lw = 2, label='_nolegend_', color = 'tab:green')\n",
    "plt.plot(output_v2, atc_v2, marker = 'o', color = 'tab:orange')\n",
    "plt.plot(output_s_v2, atc_s_v2, alpha=0.7, lw = 2, label='_nolegend_', color = 'tab:orange')\n",
    "plt.hlines(y=min(avc_v2), xmin = 6, xmax = 8, lw=3, color='r', zorder = 10)\n",
    "plt.hlines(y=min(atc_v2), xmin = 7.5, xmax = 9.5, lw=3, color='r', zorder = 10)\n",
    "plt.xlabel('Quantity')\n",
    "plt.ylabel('Cost')\n",
    "plt.title('MC, AVC and ATC')\n",
    "plt.legend(make_array(\"Marginal Cost\",\"Average Variable Cost\",\"Average Total Cost\"))\n",
    "\n",
    "plt.show()"
   ]
  },
  {
   "cell_type": "code",
   "execution_count": null,
   "metadata": {},
   "outputs": [],
   "source": [
    "interact(lambda price: firm_behaviour(price, individual_firm_costs_v2), price=widgets.IntSlider(min=20,max=60,step=1,value=25));"
   ]
  },
  {
   "cell_type": "code",
   "execution_count": null,
   "metadata": {},
   "outputs": [],
   "source": [
    "output = individual_firm_costs_v2.column(\"Output\")[1:]\n",
    "mc = individual_firm_costs_v2.column(\"Marginal Cost\")[1:]\n",
    "avc = individual_firm_costs_v2.column(\"Average Variable Cost\")[1:]\n",
    "atc = individual_firm_costs_v2.column(\"Average Total Cost\")[1:]\n",
    "\n",
    "sp_mc = csaps(output, mc, smooth=0.85)\n",
    "sp_avc = csaps(output, avc, smooth=0.85)\n",
    "sp_atc = csaps(output, atc, smooth=0.85)\n",
    "\n",
    "output_s = np.linspace(output.min(), output.max(), 150)\n",
    "mc_s = sp_mc(output_s)\n",
    "avc_s = sp_avc(output_s)\n",
    "atc_s = sp_atc(output_s)\n",
    "\n",
    "plt.plot(output, mc, marker = 'o', color = 'tab:blue')\n",
    "plt.plot(output_s, mc_s, alpha=0.7, lw = 2, label='_nolegend_', color = 'tab:blue')\n",
    "plt.plot(output, avc, marker = 'o', color = 'tab:green')\n",
    "plt.plot(output_s, avc_s, alpha=0.7, lw = 2, label='_nolegend_', color = 'tab:green')\n",
    "plt.plot(output, atc, marker = 'o', color = 'tab:orange')\n",
    "plt.plot(output_s, atc_s, alpha=0.7, lw = 2, label='_nolegend_', color = 'tab:orange')\n",
    "plt.hlines(y=min(avc), xmin = 6, xmax = 8, lw=3, color='r', zorder = 10)\n",
    "plt.hlines(y=min(atc), xmin = 7.5, xmax = 9.5, lw=3, color='r', zorder = 10)\n",
    "plt.xlabel('Quantity')\n",
    "plt.ylabel('Cost')\n",
    "plt.title('MC, AVC and ATC')\n",
    "plt.legend(make_array(\"Marginal Cost\",\"Average Variable Cost\",\"Average Total Cost\"))\n",
    "\n",
    "plt.show()\n",
    "\n",
    "output_v2 = individual_firm_costs_v2.column(\"Output\")[1:]\n",
    "mc_v2 = individual_firm_costs_v2.column(\"Marginal Cost\")[1:]\n",
    "avc_v2 = individual_firm_costs_v2.column(\"Average Variable Cost\")[1:]\n",
    "atc_v2 = individual_firm_costs_v2.column(\"Average Total Cost\")[1:]\n",
    "\n",
    "sp_mc_v2 = csaps(output_v2, mc_v2, smooth=0.85)\n",
    "sp_avc_v2 = csaps(output, avc_v2, smooth=0.85)\n",
    "sp_atc_v2 = csaps(output, atc_v2, smooth=0.85)\n",
    "\n",
    "output_s_v2 = np.linspace(output_v2.min(), output_v2.max(), 150)\n",
    "mc_s_v2 = sp_mc_v2(output_s_v2)\n",
    "avc_s_v2 = sp_avc_v2(output_s_v2)\n",
    "atc_s_v2 = sp_atc_v2(output_s_v2)\n",
    "\n",
    "plt.plot(output_v2, mc_v2, marker = 'o', color = 'tab:blue')\n",
    "plt.plot(output_s_v2, mc_s_v2, alpha=0.7, lw = 2, label='_nolegend_', color = 'tab:blue')\n",
    "plt.plot(output_v2, avc_v2, marker = 'o', color = 'tab:green')\n",
    "plt.plot(output_s_v2, avc_s_v2, alpha=0.7, lw = 2, label='_nolegend_', color = 'tab:green')\n",
    "plt.plot(output_v2, atc_v2, marker = 'o', color = 'tab:orange')\n",
    "plt.plot(output_s_v2, atc_s_v2, alpha=0.7, lw = 2, label='_nolegend_', color = 'tab:orange')\n",
    "plt.hlines(y=min(avc_v2), xmin = 6, xmax = 8, lw=3, color='r', zorder = 10)\n",
    "plt.hlines(y=min(atc_v2), xmin = 7.5, xmax = 9.5, lw=3, color='r', zorder = 10)\n",
    "plt.xlabel('Quantity')\n",
    "plt.ylabel('Cost')\n",
    "plt.title('MC, AVC and ATC')\n",
    "plt.legend(make_array(\"Marginal Cost\",\"Average Variable Cost\",\"Average Total Cost\"))\n",
    "\n",
    "plt.show()"
   ]
  },
  {
   "cell_type": "code",
   "execution_count": null,
   "metadata": {},
   "outputs": [],
   "source": []
  },
  {
   "cell_type": "code",
   "execution_count": null,
   "metadata": {},
   "outputs": [],
   "source": []
  }
 ],
 "metadata": {
  "@webio": {
   "lastCommId": null,
   "lastKernelId": null
  },
  "kernelspec": {
   "display_name": "Python 3 (ipykernel)",
   "language": "python",
   "name": "python3"
  },
  "language_info": {
   "codemirror_mode": {
    "name": "ipython",
    "version": 3
   },
   "file_extension": ".py",
   "mimetype": "text/x-python",
   "name": "python",
   "nbconvert_exporter": "python",
   "pygments_lexer": "ipython3",
   "version": "3.9.15"
  },
  "varInspector": {
   "cols": {
    "lenName": 16,
    "lenType": 16,
    "lenVar": 40
   },
   "kernels_config": {
    "python": {
     "delete_cmd_postfix": "",
     "delete_cmd_prefix": "del ",
     "library": "var_list.py",
     "varRefreshCmd": "print(var_dic_list())"
    },
    "r": {
     "delete_cmd_postfix": ") ",
     "delete_cmd_prefix": "rm(",
     "library": "var_list.r",
     "varRefreshCmd": "cat(var_dic_list()) "
    }
   },
   "types_to_exclude": [
    "module",
    "function",
    "builtin_function_or_method",
    "instance",
    "_Feature"
   ],
   "window_display": false
  }
 },
 "nbformat": 4,
 "nbformat_minor": 4
}
