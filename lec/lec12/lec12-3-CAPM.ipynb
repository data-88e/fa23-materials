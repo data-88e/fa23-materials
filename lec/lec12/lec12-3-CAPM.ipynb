{
 "cells": [
  {
   "cell_type": "markdown",
   "id": "e5842cfe-dc75-4762-88fb-e7532d30f165",
   "metadata": {},
   "source": [
    "<table style=\"width: 100%;\">\n",
    "    <tr style=\"background-color: transparent;\"><td>\n",
    "        <img src=\"https://data-88e.github.io/assets/images/blue_text.png\" width=\"250px\" style=\"margin-left: 0;\" />\n",
    "    </td><td>\n",
    "        <p style=\"text-align: right; font-size: 10pt;\"><strong>Economic Models</strong>, Fall 2023<br>\n",
    "            Dr. Eric Van Dusen <br>\n",
    "        ></td></tr>\n",
    "</table>"
   ]
  },
  {
   "cell_type": "markdown",
   "id": "df97d745-41a5-47b3-baea-6478de70b021",
   "metadata": {},
   "source": [
    "## Capital Assets Pricing Model"
   ]
  },
  {
   "cell_type": "code",
   "execution_count": null,
   "id": "7c5284ef-8413-49b8-b0c4-27d145ccd36a",
   "metadata": {},
   "outputs": [],
   "source": [
    "try:\n",
    "    import yfinance as yf\n",
    "except:\n",
    "    !pip install yfinance\n",
    "    import yfinance as yf"
   ]
  },
  {
   "cell_type": "code",
   "execution_count": null,
   "id": "52dc44fd-ee91-48fd-83c9-96421283dfa3",
   "metadata": {},
   "outputs": [],
   "source": [
    "import numpy as np\n",
    "import pandas as pd\n",
    "import yfinance as yf\n",
    "import statsmodels.api as sm\n",
    "import plotly.express as px"
   ]
  },
  {
   "cell_type": "markdown",
   "id": "059880e2-7e6d-43b9-810b-608a715ed8c4",
   "metadata": {},
   "source": [
    "- Define your stock and market index symbols, as well as the risk-free rate (usually the 10-year Treasury yield).\n",
    "\n",
    "- Retrieve historical data for your chosen stock and the market index using a library like pandas_datareader or by loading a CSV file with historical price data.\n",
    "\n",
    "- Calculate the daily returns for both the stock and the market index.\n",
    "\n",
    "- Calculate the excess returns of the stock by subtracting the risk-free rate from the stock's daily returns.\n",
    "\n",
    "- Calculate the excess returns of the market by subtracting the risk-free rate from the market index's daily returns.\n",
    "\n",
    "- Calculate the beta coefficient, which measures the stock's volatility relative to the market index. You can use linear regression to estimate the beta.\n",
    "\n",
    "- Calculate the expected return of the stock using the CAPM formula:"
   ]
  },
  {
   "cell_type": "code",
   "execution_count": null,
   "id": "6ca5fd30-65b6-43c4-976a-b09ec70948bf",
   "metadata": {},
   "outputs": [],
   "source": [
    "# Define stock and market index symbols\n",
    "stock_symbol = 'AAPL'\n",
    "market_index_symbol = '^GSPC'  # S&P 500 index\n",
    "risk_free_rate = 0.02  # 10-year Treasury yield\n",
    "\n",
    "# Define the date range\n",
    "start_date = '2020-01-01'\n",
    "end_date = '2021-12-31'"
   ]
  },
  {
   "cell_type": "code",
   "execution_count": null,
   "id": "4abe03da-adaa-4227-8622-82e01becb829",
   "metadata": {},
   "outputs": [],
   "source": [
    "\n",
    "# Download historical data using yfinance\n",
    "stock_data = yf.download(stock_symbol, start=start_date, end=end_date)\n",
    "market_data = yf.download(market_index_symbol, start=start_date, end=end_date)\n"
   ]
  },
  {
   "cell_type": "code",
   "execution_count": null,
   "id": "5b9bcf4a-a783-4f4a-a7bf-aff644308023",
   "metadata": {},
   "outputs": [],
   "source": [
    "stock_data\n"
   ]
  },
  {
   "cell_type": "code",
   "execution_count": null,
   "id": "ac25e395-334c-4ab3-9704-32282c0b2cc6",
   "metadata": {},
   "outputs": [],
   "source": [
    "stock_df = stock_data.reset_index()\n",
    "market_df = market_data.reset_index()\n",
    "\n",
    "# Create line plots for stock closing price and market index closing price\n",
    "fig_stock = px.line(stock_df, x='Date', y='Close', title=f'{stock_symbol} Closing Price')\n",
    "fig_stock.update_xaxes(title_text='Date')\n",
    "fig_stock.update_yaxes(title_text='Price (USD)')\n",
    "\n",
    "fig_market = px.line(market_df, x='Date', y='Close', title=f'{market_index_symbol} Closing Price')\n",
    "fig_market.update_xaxes(title_text='Date')\n",
    "fig_market.update_yaxes(title_text='Price (USD)')\n",
    "\n",
    "# Show the plots\n",
    "fig_stock.show()\n",
    "fig_market.show()\n",
    "\n",
    "\n",
    "\n",
    "\n",
    "\n",
    "\n"
   ]
  },
  {
   "cell_type": "code",
   "execution_count": null,
   "id": "48ea5b50-dd6c-45ad-bb82-9a8de2d7b2d6",
   "metadata": {},
   "outputs": [],
   "source": [
    "\n",
    "# Calculate daily returns\n",
    "stock_returns = stock_data['Adj Close'].pct_change().dropna()\n",
    "market_returns = market_data['Adj Close'].pct_change().dropna()\n",
    "market_returns"
   ]
  },
  {
   "cell_type": "code",
   "execution_count": null,
   "id": "57527f04-c9f5-4976-b0b2-d305fe039ae3",
   "metadata": {},
   "outputs": [],
   "source": [
    "SR = pd.DataFrame({'Date': stock_returns.index, 'Returns': stock_returns})\n",
    "\n",
    "# Create a line plot using Plotly Express\n",
    "fig = px.line(SR, x='Date', y='Returns', title=f'{stock_symbol} Daily Returns')\n",
    "fig.update_xaxes(title_text='Date')\n",
    "fig.update_yaxes(title_text='Returns')\n",
    "\n",
    "# Show the plot\n",
    "fig.show()"
   ]
  },
  {
   "cell_type": "code",
   "execution_count": null,
   "id": "920b5441-e7c7-4384-8788-483bc7eed377",
   "metadata": {},
   "outputs": [],
   "source": [
    "# Calculate excess returns\n",
    "excess_stock_returns = stock_returns - risk_free_rate\n",
    "excess_market_returns = market_returns - risk_free_rate\n",
    "excess_market_returns"
   ]
  },
  {
   "cell_type": "code",
   "execution_count": null,
   "id": "4cb9463f-534a-4bb2-9ca7-e5228dab20e8",
   "metadata": {},
   "outputs": [],
   "source": [
    "XR = pd.DataFrame({'Date': excess_market_returns.index, 'Returns': excess_market_returns})\n",
    "\n",
    "# Create a line plot using Plotly Express\n",
    "fig = px.line(XR, x='Date', y='Returns', title=f'{stock_symbol} Excess Returns')\n",
    "fig.update_xaxes(title_text='Date')\n",
    "fig.update_yaxes(title_text='Returns')\n",
    "\n",
    "# Show the plot\n",
    "fig.show()"
   ]
  },
  {
   "cell_type": "code",
   "execution_count": null,
   "id": "e449d3cf-fd10-43da-9946-0906ae48a8c2",
   "metadata": {},
   "outputs": [],
   "source": [
    "# Perform linear regression to estimate beta\n",
    "X = sm.add_constant(excess_market_returns)\n",
    "model = sm.OLS(excess_stock_returns, X).fit()\n",
    "beta = model.params['Adj Close']"
   ]
  },
  {
   "cell_type": "code",
   "execution_count": null,
   "id": "f7797b24-a078-433d-89a8-0fa365400798",
   "metadata": {},
   "outputs": [],
   "source": [
    "# Calculate expected return using CAPM\n",
    "market_return = np.mean(excess_market_returns)\n",
    "expected_return = risk_free_rate + beta * (market_return - risk_free_rate)"
   ]
  },
  {
   "cell_type": "code",
   "execution_count": null,
   "id": "8e390fac-9afc-4008-92a0-9c062496be18",
   "metadata": {},
   "outputs": [],
   "source": [
    "print(f\"Stock Beta: {beta:.3f}\")\n",
    "print(f\"Expected Return: {expected_return:.3f}\")"
   ]
  },
  {
   "cell_type": "markdown",
   "id": "d6368bac-e9fa-4f00-bba7-5adbb71e96c5",
   "metadata": {},
   "source": [
    "\n",
    "AAPL was not beating the Market for much of 2021\n",
    "( but is actually 5% of the SNP?)\n",
    "\n",
    "\n",
    "\n",
    "\n",
    "\n",
    "\n",
    "\n",
    "\n",
    "\n"
   ]
  },
  {
   "cell_type": "code",
   "execution_count": null,
   "id": "167c5af6-14e5-40b4-8a6c-ca400a1b8fb2",
   "metadata": {},
   "outputs": [],
   "source": []
  }
 ],
 "metadata": {
  "kernelspec": {
   "display_name": "Python 3 (ipykernel)",
   "language": "python",
   "name": "python3"
  },
  "language_info": {
   "codemirror_mode": {
    "name": "ipython",
    "version": 3
   },
   "file_extension": ".py",
   "mimetype": "text/x-python",
   "name": "python",
   "nbconvert_exporter": "python",
   "pygments_lexer": "ipython3",
   "version": "3.8.15"
  }
 },
 "nbformat": 4,
 "nbformat_minor": 5
}
