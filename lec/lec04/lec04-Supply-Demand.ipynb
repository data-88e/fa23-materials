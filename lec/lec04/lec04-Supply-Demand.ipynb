{
 "cells": [
  {
   "cell_type": "markdown",
   "metadata": {},
   "source": [
    "<table style=\"width: 100%;\">\n",
    "    <tr style=\"background-color: transparent;\"><td>\n",
    "        <img src=\"https://data-88e.github.io/assets/images/blue_text.png\" width=\"250px\" style=\"margin-left: 0;\" />\n",
    "    </td><td>\n",
    "        <p style=\"text-align: right; font-size: 10pt;\"><strong>Economic Models</strong>, Fall 2023<br>\n",
    "            Dr. Eric Van Dusen <br>\n",
    "        </p></td></tr>\n",
    "</table>"
   ]
  },
  {
   "cell_type": "code",
   "execution_count": 39,
   "metadata": {
    "tags": []
   },
   "outputs": [],
   "source": [
    "import sympy\n",
    "solve = lambda x,y: sympy.solve(x-y)[0] if len(sympy.solve(x-y))==1 else \"Not Single Solution\"\n",
    "import matplotlib.pyplot as plt\n",
    "plt.style.use('ggplot')\n",
    "%matplotlib inline\n",
    "\n",
    "from ipywidgets import interact, interactive, fixed, interact_manual\n",
    "import ipywidgets as widgets\n",
    "from IPython.display import display\n",
    "#import nbinteract as nbi\n",
    "import numpy as np\n",
    "\n",
    "import warnings\n",
    "warnings.filterwarnings('ignore')"
   ]
  },
  {
   "cell_type": "markdown",
   "metadata": {},
   "source": [
    "# Supply, Demand, and Equilibrium\n",
    "\n",
    "## Set-up\n",
    "\n",
    "With this notebook, we are going to plot and solve equations, hopefully giving some more hands on exposure to the materials that you've already seen in class. \n",
    "\n",
    "We have already covered \n",
    "- sympy\n",
    "- getting slope and intercept for deman curve\n",
    "- solving for equilibrium"
   ]
  },
  {
   "cell_type": "markdown",
   "metadata": {},
   "source": [
    "## Solving Equations with SymPy\n",
    "\n",
    "In order to treat variables like the symbols you would using pen and paper, we have to declare them as such first. We are going to use the inverse forms, so our equations will both be a function of quantity. We create a variable for quantity below."
   ]
  },
  {
   "cell_type": "code",
   "execution_count": 26,
   "metadata": {},
   "outputs": [],
   "source": [
    "Q = sympy.Symbol(\"Q\")"
   ]
  },
  {
   "cell_type": "markdown",
   "metadata": {},
   "source": [
    "Now when we call this variable, we can see that it is a symbolic variable, and not some other Python type."
   ]
  },
  {
   "cell_type": "markdown",
   "metadata": {},
   "source": [
    "We cn decplare an upward sloping supply curve with a name, `supply`."
   ]
  },
  {
   "cell_type": "code",
   "execution_count": 40,
   "metadata": {},
   "outputs": [
    {
     "data": {
      "text/latex": [
       "$\\displaystyle 3 Q + 4$"
      ],
      "text/plain": [
       "3*Q + 4"
      ]
     },
     "execution_count": 40,
     "metadata": {},
     "output_type": "execute_result"
    }
   ],
   "source": [
    "supply = 3*Q + 4\n",
    "supply"
   ]
  },
  {
   "cell_type": "markdown",
   "metadata": {},
   "source": [
    "We can then substitue in values for our quantity variable. We do so in the following cell. Using the method `subs`, we take the equation we already defined, `supply`, and plug in the value 3 in place of `Q`."
   ]
  },
  {
   "cell_type": "code",
   "execution_count": 41,
   "metadata": {},
   "outputs": [
    {
     "data": {
      "text/latex": [
       "$\\displaystyle 13$"
      ],
      "text/plain": [
       "13"
      ]
     },
     "execution_count": 41,
     "metadata": {},
     "output_type": "execute_result"
    }
   ],
   "source": [
    "supply.subs(Q, 3)"
   ]
  },
  {
   "cell_type": "markdown",
   "metadata": {},
   "source": [
    "Next we'll define an inverse-demand equation."
   ]
  },
  {
   "cell_type": "code",
   "execution_count": 42,
   "metadata": {},
   "outputs": [
    {
     "data": {
      "text/latex": [
       "$\\displaystyle 15 - 4 Q$"
      ],
      "text/plain": [
       "15 - 4*Q"
      ]
     },
     "execution_count": 42,
     "metadata": {},
     "output_type": "execute_result"
    }
   ],
   "source": [
    "demand = -4*Q+15\n",
    "demand"
   ]
  },
  {
   "cell_type": "markdown",
   "metadata": {},
   "source": [
    "We are now able to take our supply and demand equations and find where they intersect. When we use the `solve` function, it will tell us the x-value of the point where the two lines intercept. This is the equilibrium quantity, which we will call that value `Q_star`."
   ]
  },
  {
   "cell_type": "code",
   "execution_count": 43,
   "metadata": {},
   "outputs": [
    {
     "data": {
      "text/latex": [
       "$\\displaystyle \\frac{11}{7}$"
      ],
      "text/plain": [
       "11/7"
      ]
     },
     "execution_count": 43,
     "metadata": {},
     "output_type": "execute_result"
    }
   ],
   "source": [
    "Q_star = solve(demand, supply) # our version of solve is simplified for single solution systems\n",
    "Q_star"
   ]
  },
  {
   "cell_type": "markdown",
   "metadata": {},
   "source": [
    "We can then substitute `Q_star` back into our original inverse-supply and inverse-demand equations to solve for our equilibrium price."
   ]
  },
  {
   "cell_type": "code",
   "execution_count": 44,
   "metadata": {},
   "outputs": [
    {
     "data": {
      "text/latex": [
       "$\\displaystyle \\frac{61}{7}$"
      ],
      "text/plain": [
       "61/7"
      ]
     },
     "execution_count": 44,
     "metadata": {},
     "output_type": "execute_result"
    }
   ],
   "source": [
    "demand.subs(Q, Q_star)"
   ]
  },
  {
   "cell_type": "code",
   "execution_count": 45,
   "metadata": {},
   "outputs": [
    {
     "data": {
      "text/latex": [
       "$\\displaystyle \\frac{61}{7}$"
      ],
      "text/plain": [
       "61/7"
      ]
     },
     "execution_count": 45,
     "metadata": {},
     "output_type": "execute_result"
    }
   ],
   "source": [
    "supply.subs(Q, Q_star)"
   ]
  },
  {
   "cell_type": "markdown",
   "metadata": {},
   "source": [
    "## Visualizing those supply and demand equations"
   ]
  },
  {
   "cell_type": "code",
   "execution_count": 46,
   "metadata": {},
   "outputs": [
    {
     "data": {
      "text/plain": [
       "(11/7, 61/7)"
      ]
     },
     "execution_count": 46,
     "metadata": {},
     "output_type": "execute_result"
    },
    {
     "data": {
      "image/png": "[encoded data removed]",
      "text/plain": [
       "<Figure size 640x480 with 1 Axes>"
      ]
     },
     "metadata": {},
     "output_type": "display_data"
    }
   ],
   "source": [
    "def plot_equation(equation, price_start, price_end, label=None):\n",
    "    plot_prices = [price_start, price_end]\n",
    "    plot_quantities = [equation.subs(list(equation.free_symbols)[0], c) for c in plot_prices]\n",
    "    plt.plot(plot_prices, plot_quantities, label=label)\n",
    "    \n",
    "def plot_intercept(eq1, eq2):\n",
    "    ex = sympy.solve(eq1-eq2)[0]\n",
    "    why = eq1.subs(list(eq1.free_symbols)[0], ex)\n",
    "    plt.scatter([ex], [why])\n",
    "    return (ex, why)\n",
    "    \n",
    "plot_equation(demand, 0, 5)\n",
    "plot_equation(supply, 0, 5)\n",
    "plt.ylim(0,20)\n",
    "plot_intercept(supply, demand)"
   ]
  },
  {
   "cell_type": "markdown",
   "metadata": {},
   "source": [
    "\n",
    "## Modeling a Shift in Demand\n",
    "We would like to be able to add in the ability to shift the demand curve, using a slider"
   ]
  },
  {
   "cell_type": "code",
   "execution_count": 48,
   "metadata": {},
   "outputs": [
    {
     "data": {
      "application/vnd.jupyter.widget-view+json": {
       "model_id": "1814520f16b64995850fc1f77c3c8890",
       "version_major": 2,
       "version_minor": 0
      },
      "text/plain": [
       "interactive(children=(IntSlider(value=3, description='shift', max=12, min=-6, step=3), Output()), _dom_classes…"
      ]
     },
     "metadata": {},
     "output_type": "display_data"
    }
   ],
   "source": [
    "# need to move supply to outside of functions (for interchangability)\n",
    "# add in equilibriums\n",
    "\n",
    "def shift_demand():\n",
    "    equation = demand\n",
    "    def shift_helper(shift):\n",
    "        plot_equation(equation, -10, 10)\n",
    "        plot_equation(supply, -10, 10)\n",
    "        old = plot_intercept(equation, supply)\n",
    "        print('Original Intercept:', old)\n",
    "        \n",
    "        if shift != 0:\n",
    "            plot_equation(equation + shift, -10, 10, 'shifted')\n",
    "            new = plot_intercept(equation + shift, supply)\n",
    "            print('New intercept:', new)\n",
    "            print('Change in Quantity:', round(float(new[0]-old[0]), 2))\n",
    "            print('Change in Price:', round(float(new[1]-old[1]), 2))\n",
    "        else:\n",
    "            print('Nothing shifted yet, use the slider to move the line!')\n",
    "        plt.xlim(0,8)\n",
    "        plt.ylim(0,20)\n",
    "        plt.legend()\n",
    "        plt.ylabel(\"Price\")\n",
    "        plt.xlabel(\"Quantity\")\n",
    "    interact(shift_helper, shift=(-6, 12, 3))\n",
    "\n",
    "shift_demand()"
   ]
  },
  {
   "cell_type": "markdown",
   "metadata": {},
   "source": [
    "## Consumer and Producer Surplus"
   ]
  },
  {
   "cell_type": "code",
   "execution_count": 18,
   "metadata": {},
   "outputs": [
    {
     "data": {
      "application/vnd.jupyter.widget-view+json": {
       "model_id": "9bbb72a18c5743b099336c425036efe7",
       "version_major": 2,
       "version_minor": 0
      },
      "text/plain": [
       "interactive(children=(IntSlider(value=10, description='demandParam', max=15, min=5), IntSlider(value=10, descr…"
      ]
     },
     "metadata": {},
     "output_type": "display_data"
    }
   ],
   "source": [
    "import sympy\n",
    "import matplotlib.pyplot as plt\n",
    "import matplotlib.patches as patches\n",
    "p = sympy.Symbol(\"p\")\n",
    "def Equilibrium(demandParam, supplyParam, priceStart):\n",
    "    demandEquation = demandParam - p\n",
    "    # change the slope\n",
    "    supplyEquation = p * (supplyParam/10)\n",
    "    priceEnd = sympy.solve(demandEquation)[0]\n",
    "    prices = []\n",
    "    demandQ = []\n",
    "    supplyQ = []\n",
    "    for price in range(priceStart,priceEnd+1):\n",
    "        prices += [price]\n",
    "        demandQ += [demandEquation.subs(p,price)]\n",
    "        supplyQ += [supplyEquation.subs(p,price)]\n",
    "    \n",
    "    equilibriumP = sympy.solve(demandEquation-supplyEquation)[0]\n",
    "    equilibriumQ = demandEquation.subs(p,equilibriumP)\n",
    "    \n",
    "    \n",
    "    \n",
    "    triangle1 = patches.Polygon([[equilibriumQ,equilibriumP],[0,equilibriumP],[0,priceEnd]],True,color=\"green\")\n",
    "    triangle2 = patches.Polygon([[equilibriumQ,equilibriumP],[0,equilibriumP],[0,0]],True,color=\"red\")\n",
    "    currentAxis = plt.gca()\n",
    "    currentAxis.add_patch(triangle1)\n",
    "    currentAxis.add_patch(triangle2)\n",
    "    \n",
    "    plt.plot(demandQ,prices)\n",
    "    plt.plot(supplyQ,prices)\n",
    "    plt.legend([\"Demand\",\"Supply\"])\n",
    "    plt.plot(equilibriumQ,equilibriumP, 'ro')\n",
    "    plt.xlabel(\"Supply and Demand Quantity\")\n",
    "    plt.ylabel(\"Price\")\n",
    "    plt.ylim(0, 15)\n",
    "    plt.xlim(0, 10)\n",
    "    plt.show()\n",
    "    print(\"The equilibrium price is \"+str(round(equilibriumP,2))+\" and equilibrium quantity is \"+str(round(equilibriumQ,2))+\".\")\n",
    "    print(\"The consumer surplus at this equilibrium \"+str((priceEnd-equilibriumP)*(equilibriumQ)*.5))\n",
    "    print(\"The producer surplus at this equilibrium \"+str((equilibriumP)*(equilibriumQ)*.5))\n",
    "# you can change the range here\n",
    "slider1 = widgets.IntSlider(min=5, max=15,step=1,value=10)\n",
    "slider2 = widgets.IntSlider(min=1, max=20,step=1,value=10)\n",
    "slider3 = widgets.IntSlider(min=-5, max=5,step=1,value=0)\n",
    "display(widgets.interactive(Equilibrium, demandParam=slider1, supplyParam=slider2, priceStart=slider3))"
   ]
  },
  {
   "cell_type": "markdown",
   "metadata": {},
   "source": [
    "## Effects of Taxes "
   ]
  },
  {
   "cell_type": "code",
   "execution_count": 19,
   "metadata": {},
   "outputs": [],
   "source": [
    "def eqSolve(eq1,eq2,tax):\n",
    "    demandP = sympy.solve(eq1-q,p)[0]\n",
    "    supplyP = sympy.solve(eq2-q,p)[0]\n",
    "    demandP = demandP-cTax\n",
    "    supplyP = supplyP+pTax\n",
    "\n",
    "    demandQ = sympy.solve(demandP-p,q)[0]\n",
    "    supplyQ = sympy.solve(supplyP-p,q)[0]\n",
    "    \n",
    "    return sympy.solve((demandP-supplyP, demandQ-supplyQ,tax-cTax-pTax), q,p,cTax,pTax)[q]"
   ]
  },
  {
   "cell_type": "code",
   "execution_count": 20,
   "metadata": {},
   "outputs": [
    {
     "data": {
      "application/vnd.jupyter.widget-view+json": {
       "model_id": "3cb71da0ec9043b9a5740e610ffde340",
       "version_major": 2,
       "version_minor": 0
      },
      "text/plain": [
       "interactive(children=(IntSlider(value=10, description='demandParam', max=15, min=5), IntSlider(value=10, descr…"
      ]
     },
     "metadata": {},
     "output_type": "display_data"
    }
   ],
   "source": [
    "import sympy\n",
    "import matplotlib.pyplot as plt\n",
    "import matplotlib.patches as patches\n",
    "p = sympy.Symbol(\"p\")\n",
    "q = sympy.Symbol(\"q\")\n",
    "cTax = sympy.Symbol(\"cTax\")\n",
    "pTax = sympy.Symbol(\"pTax\")\n",
    "\n",
    "def EquilibriumTax(demandParam,supplyParam,priceStart,priceEnd,tax):\n",
    "    demandEquation = demandParam - p\n",
    "    supplyEquation = p * (supplyParam/10)\n",
    "    prices = []\n",
    "    demand = []\n",
    "    supply = []\n",
    "    for price in range(priceStart,priceEnd+1):\n",
    "        prices += [price]\n",
    "        demand += [demandEquation.subs(p,price)]\n",
    "        supply += [supplyEquation.subs(p,price)]\n",
    "        \n",
    "    \n",
    "    \n",
    "    nonTaxPrice = sympy.solve(demandEquation-supplyEquation)[0]\n",
    "    nonTaxQ = demandEquation.subs(p,nonTaxPrice)\n",
    "\n",
    "    \n",
    "    equilibriumQ = eqSolve(demandEquation,supplyEquation,tax)\n",
    "    equilibriumP1 = sympy.solve(demandEquation-equilibriumQ)[0]\n",
    "    equilibriumP2 = sympy.solve(supplyEquation-equilibriumQ)[0]\n",
    "    \n",
    "    triangle1 = patches.Polygon([[nonTaxQ,nonTaxPrice],[equilibriumQ,nonTaxPrice],[equilibriumQ,equilibriumP1]],True,color=\"green\")\n",
    "    triangle2 = patches.Polygon([[nonTaxQ,nonTaxPrice],[equilibriumQ,nonTaxPrice],[equilibriumQ,equilibriumP2]],True)\n",
    "    currentAxis = plt.gca()\n",
    "    currentAxis.add_patch(triangle1)\n",
    "    currentAxis.add_patch(triangle2)\n",
    "    \n",
    "    \n",
    "    rect1 = patches.Rectangle((0,nonTaxPrice),equilibriumQ,equilibriumP1-nonTaxPrice,linewidth=1,facecolor=\"red\")\n",
    "    rect2 = patches.Rectangle((0,nonTaxPrice),equilibriumQ,equilibriumP2-nonTaxPrice,linewidth=1,facecolor=\"yellow\")\n",
    "    currentAxis.add_patch(rect1)\n",
    "    currentAxis.add_patch(rect2)\n",
    "    \n",
    "    plt.plot(demand,prices)\n",
    "    plt.plot(supply,prices)\n",
    "    \n",
    "    \n",
    "    plt.legend([rect1,rect2,triangle1,triangle2], [\"Consumer Tax\",\"Producer Tax\",\"Consumer Deadweight Loss\",\"Producer Deadweight Loss\"])\n",
    "    plt.plot(equilibriumQ,equilibriumP1, 'ro')\n",
    "    plt.plot(equilibriumQ,equilibriumP2, 'ro')\n",
    "    plt.xlabel(\"Supply and Demand Quantity\")\n",
    "    plt.ylabel(\"Price\")\n",
    "    plt.ylim(0, 15)\n",
    "    plt.xlim(0, 10)\n",
    "    plt.show()\n",
    "    print(\"Without Tax - the equilibrium price is \"+str(round(nonTaxPrice,2))+\" and equilibrium quantity is \"+str(round(nonTaxQ,2)))\n",
    "    print(\"With Tax - Price paid by consumers is \"+str(equilibriumP1)+\" Price received by suppliers is \"+str(round(equilibriumP2,2))+\" and equilibrium quantity is \"+str(equilibriumQ)+\".\")\n",
    "    print(\"Taxes raised from consumers equals \"+str(round(equilibriumQ*(equilibriumP1-nonTaxPrice),2)))\n",
    "    print(\"Taxes raised from producers equals \"+str(round(equilibriumQ*(nonTaxPrice-equilibriumP2),2)))\n",
    "    print(\"Total taxes raised equals \"+str(equilibriumQ*tax))\n",
    "\n",
    "slider1 = widgets.IntSlider(min=5, max=15,step=1,value=10)\n",
    "slider2 = widgets.IntSlider(min=1, max=20,step=1,value=10)\n",
    "slider3 = widgets.IntSlider(min=-5, max=5,step=1,value=0)\n",
    "slider4 = widgets.IntSlider(min=5, max=20,step=1,value=10)\n",
    "slider5 = widgets.IntSlider(min=0, max=8,step=1,value=4)\n",
    "display(widgets.interactive(EquilibriumTax, demandParam=slider1, supplyParam=slider2, priceStart=slider3, priceEnd=slider4, tax=slider5))"
   ]
  },
  {
   "cell_type": "markdown",
   "metadata": {},
   "source": [
    "## Shifts in Demand and Supply and Incidence of Tax\n",
    "In this graph the second line with the suppply plus tax is not graphed but the new equilibrium point is. "
   ]
  },
  {
   "cell_type": "markdown",
   "metadata": {},
   "source": [
    "## Question 3.1 -  Demand Shift - Intercept Slider\n",
    "Shift the Demand Parameter - This slider is only shifting the intercept which leads to a parrallel shift in Demand. What happens to the amount of tax paid  as demand shifts out.  What happens to the ratio of tax paid from Consumer Surplus to Producer Surplus?"
   ]
  },
  {
   "cell_type": "markdown",
   "metadata": {},
   "source": [
    "....  Type your answer in here"
   ]
  },
  {
   "cell_type": "markdown",
   "metadata": {},
   "source": [
    "## Question 3.2 - Supply Shift - Slope Slider\n",
    "Shift the Supply Parameter - This slider is shifting the slope which leads to a change in the steepness of the Supply curve. What happens to the amount of Consumer Surplus as supply becomes steeper?  What happens to the tax incidence - the ratio of tax coming from Consumer Surplus vs. Producer Surplus?"
   ]
  },
  {
   "cell_type": "markdown",
   "metadata": {},
   "source": [
    "....  Type your answer in here"
   ]
  },
  {
   "cell_type": "markdown",
   "metadata": {},
   "source": [
    "## Question 3.3 - Tax Shift - \n",
    "Shift the Tax Parameter - This slider is increasing or decreasing the amount of tax. \n",
    "\n",
    "Is it affecting the slope or the intercept? \n",
    "\n",
    "An increase in tax leads to and increase in the price paid by consumers. In this case how much does a given tax lead to an increase in price?\n",
    "\n",
    "\n",
    "When shifting the tax alone - how does the incidence of tax between producers and consumers change?\n",
    "\n"
   ]
  },
  {
   "cell_type": "markdown",
   "metadata": {},
   "source": [
    "....  Type your answer in here"
   ]
  }
 ],
 "metadata": {
  "kernelspec": {
   "display_name": "Python 3 (ipykernel)",
   "language": "python",
   "name": "python3"
  },
  "language_info": {
   "codemirror_mode": {
    "name": "ipython",
    "version": 3
   },
   "file_extension": ".py",
   "mimetype": "text/x-python",
   "name": "python",
   "nbconvert_exporter": "python",
   "pygments_lexer": "ipython3",
   "version": "3.9.15"
  }
 },
 "nbformat": 4,
 "nbformat_minor": 4
}
